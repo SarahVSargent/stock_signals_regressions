{
  "nbformat": 4,
  "nbformat_minor": 0,
  "metadata": {
    "colab": {
      "provenance": [],
      "mount_file_id": "1rHUTMjv6opevjwajsHYviEEPjQwNAhCY",
      "authorship_tag": "ABX9TyNTz7NcIh2Pxo2FgGL9P1oR",
      "include_colab_link": true
    },
    "kernelspec": {
      "name": "python3",
      "display_name": "Python 3"
    },
    "language_info": {
      "name": "python"
    }
  },
  "cells": [
    {
      "cell_type": "markdown",
      "metadata": {
        "id": "view-in-github",
        "colab_type": "text"
      },
      "source": [
        "<a href=\"https://colab.research.google.com/github/SarahVSargent/stock_signals_regressions/blob/main/Sloan_Accurals_Analomaly.ipynb\" target=\"_parent\"><img src=\"https://colab.research.google.com/assets/colab-badge.svg\" alt=\"Open In Colab\"/></a>"
      ]
    },
    {
      "cell_type": "code",
      "execution_count": null,
      "metadata": {
        "id": "QRdaD0MaLlij"
      },
      "outputs": [],
      "source": [
        "#author= SarahVSargent"
      ]
    },
    {
      "cell_type": "code",
      "source": [
        "#### Import and Install Tools ###\n",
        "\n",
        "!pip install pandasql\n",
        "\n",
        "import os\n",
        "\n",
        "from datetime import datetime, timedelta\n",
        "from sklearn.model_selection import train_test_split\n",
        "\n",
        "from statsmodels.tsa.stattools import adfuller\n",
        "\n",
        "from statsmodels.tsa.seasonal import seasonal_decompose\n",
        "\n",
        "from statsmodels.tsa.arima_model import ARIMA\n",
        "\n",
        "from sklearn.metrics import mean_squared_error, mean_absolute_error\n",
        "\n",
        "import math\n",
        "\n",
        "import pandas as pd\n",
        "\n",
        "import statsmodels.api as sm\n",
        "\n",
        "import statsmodels.formula.api as sm\n",
        "\n",
        "import numpy as np\n",
        "\n",
        "import matplotlib.pyplot as plt\n",
        "\n",
        "from sqlite3 import connect\n",
        "\n",
        "from scipy.stats.mstats import winsorize, ks_2samp\n",
        "\n",
        "import seaborn as sns\n",
        "\n",
        "import pandasql as ps\n",
        "\n",
        "conn = connect(':memory:', timeout = 10) #connect to convert between pd dataframe and sql\n",
        "\n",
        "#helpful to not have to copy paste everything eveyrme a new table is made\n",
        "filePath = \"/content/drive/MyDrive/Exeter google drive /internships jobs/FIMA '23/Sloane Accruals\""
      ],
      "metadata": {
        "id": "IYvkv_m_ZSfQ",
        "colab": {
          "base_uri": "https://localhost:8080/"
        },
        "outputId": "22750ab0-22d9-4eb5-b303-cfb032ec87d7"
      },
      "execution_count": null,
      "outputs": [
        {
          "output_type": "stream",
          "name": "stdout",
          "text": [
            "Collecting pandasql\n",
            "  Downloading pandasql-0.7.3.tar.gz (26 kB)\n",
            "  Preparing metadata (setup.py) ... \u001b[?25l\u001b[?25hdone\n",
            "Requirement already satisfied: numpy in /usr/local/lib/python3.10/dist-packages (from pandasql) (1.23.5)\n",
            "Requirement already satisfied: pandas in /usr/local/lib/python3.10/dist-packages (from pandasql) (1.5.3)\n",
            "Requirement already satisfied: sqlalchemy in /usr/local/lib/python3.10/dist-packages (from pandasql) (2.0.20)\n",
            "Requirement already satisfied: python-dateutil>=2.8.1 in /usr/local/lib/python3.10/dist-packages (from pandas->pandasql) (2.8.2)\n",
            "Requirement already satisfied: pytz>=2020.1 in /usr/local/lib/python3.10/dist-packages (from pandas->pandasql) (2023.3)\n",
            "Requirement already satisfied: typing-extensions>=4.2.0 in /usr/local/lib/python3.10/dist-packages (from sqlalchemy->pandasql) (4.7.1)\n",
            "Requirement already satisfied: greenlet!=0.4.17 in /usr/local/lib/python3.10/dist-packages (from sqlalchemy->pandasql) (2.0.2)\n",
            "Requirement already satisfied: six>=1.5 in /usr/local/lib/python3.10/dist-packages (from python-dateutil>=2.8.1->pandas->pandasql) (1.16.0)\n",
            "Building wheels for collected packages: pandasql\n",
            "  Building wheel for pandasql (setup.py) ... \u001b[?25l\u001b[?25hdone\n",
            "  Created wheel for pandasql: filename=pandasql-0.7.3-py3-none-any.whl size=26771 sha256=b7b284cc7a358b7fa35c371a2667f049a3bdeaf04fb098e6817c0655d9c6d7c3\n",
            "  Stored in directory: /root/.cache/pip/wheels/e9/bc/3a/8434bdcccf5779e72894a9b24fecbdcaf97940607eaf4bcdf9\n",
            "Successfully built pandasql\n",
            "Installing collected packages: pandasql\n",
            "Successfully installed pandasql-0.7.3\n"
          ]
        }
      ]
    },
    {
      "cell_type": "code",
      "source": [
        "#what is force remount? have to re mount drive each time its used\n",
        "from google.colab import drive\n",
        "drive.mount('/content/gdrive', force_remount=True)\n"
      ],
      "metadata": {
        "id": "wmWoVrlGdvMm",
        "colab": {
          "base_uri": "https://localhost:8080/"
        },
        "outputId": "91b4d195-781c-4577-fd2d-90388d020d4b"
      },
      "execution_count": null,
      "outputs": [
        {
          "output_type": "stream",
          "name": "stdout",
          "text": [
            "Mounted at /content/gdrive\n"
          ]
        }
      ]
    },
    {
      "cell_type": "code",
      "source": [
        "file= \"/content/gdrive/MyDrive/Exeter google drive /internships jobs/FIMA '23/Sloane Accruals/CRSPMonthly1990Through2022.csv\"\n",
        "crsp1990To2022= pd.read_csv(file)\n",
        "print(crsp1990To2022.columns)\n",
        "print(crsp1990To2022)"
      ],
      "metadata": {
        "colab": {
          "base_uri": "https://localhost:8080/"
        },
        "id": "Mu95LO1NMeSS",
        "outputId": "89b7a31c-7720-423f-ca49-0113bd4ffaa1"
      },
      "execution_count": null,
      "outputs": [
        {
          "output_type": "stream",
          "name": "stderr",
          "text": [
            "<ipython-input-4-c65205eb0b99>:2: DtypeWarning: Columns (5,9,18,19,49,58) have mixed types. Specify dtype option on import or set low_memory=False.\n",
            "  crsp1990To2022= pd.read_csv(file)\n"
          ]
        },
        {
          "output_type": "stream",
          "name": "stdout",
          "text": [
            "Index(['PERMNO', 'date', 'NAMEENDT', 'SHRCD', 'EXCHCD', 'SICCD', 'NCUSIP',\n",
            "       'TICKER', 'COMNAM', 'SHRCLS', 'TSYMBOL', 'NAICS', 'PRIMEXCH', 'TRDSTAT',\n",
            "       'SECSTAT', 'PERMCO', 'ISSUNO', 'HEXCD', 'HSICCD', 'CUSIP', 'DCLRDT',\n",
            "       'DLAMT', 'DLPDT', 'DLSTCD', 'NEXTDT', 'PAYDT', 'RCRDDT', 'SHRFLG',\n",
            "       'HSICMG', 'HSICIG', 'DISTCD', 'DIVAMT', 'FACPR', 'FACSHR', 'ACPERM',\n",
            "       'ACCOMP', 'SHRENDDT', 'NWPERM', 'DLRETX', 'DLPRC', 'DLRET', 'TRTSCD',\n",
            "       'NMSIND', 'MMCNT', 'NSDINX', 'BIDLO', 'ASKHI', 'PRC', 'VOL', 'RET',\n",
            "       'BID', 'ASK', 'SHROUT', 'CFACPR', 'CFACSHR', 'ALTPRC', 'SPREAD',\n",
            "       'ALTPRCDT', 'RETX', 'vwretd', 'vwretx', 'ewretd', 'ewretx', 'sprtrn'],\n",
            "      dtype='object')\n",
            "         PERMNO      date  NAMEENDT  SHRCD  EXCHCD   SICCD    NCUSIP TICKER  \\\n",
            "0         10001  19900131       NaN   11.0     3.0    4920  39040610   GFGC   \n",
            "1         10001  19900228       NaN   11.0     3.0    4920  39040610   GFGC   \n",
            "2         10001  19900330       NaN   11.0     3.0    4920  39040610   GFGC   \n",
            "3         10001  19900430       NaN   11.0     3.0    4920  39040610   GFGC   \n",
            "4         10001  19900531       NaN   11.0     3.0    4920  39040610   GFGC   \n",
            "...         ...       ...       ...    ...     ...     ...       ...    ...   \n",
            "2975236   93436  20211130       NaN   11.0     3.0  9999.0  88160R10   TSLA   \n",
            "2975237   93436  20211231       NaN   11.0     3.0  9999.0  88160R10   TSLA   \n",
            "2975238   93436  20220131       NaN   11.0     3.0  9999.0  88160R10   TSLA   \n",
            "2975239   93436  20220228       NaN   11.0     3.0  9999.0  88160R10   TSLA   \n",
            "2975240   93436  20220331       NaN   11.0     3.0  9999.0  88160R10   TSLA   \n",
            "\n",
            "                     COMNAM SHRCLS  ... CFACSHR      ALTPRC SPREAD  \\\n",
            "0        GREAT FALLS GAS CO    NaN  ...     3.0    -9.93750  0.125   \n",
            "1        GREAT FALLS GAS CO    NaN  ...     3.0    -9.87500  0.250   \n",
            "2        GREAT FALLS GAS CO    NaN  ...     3.0    -9.87500  0.250   \n",
            "3        GREAT FALLS GAS CO    NaN  ...     3.0    -9.87500  0.250   \n",
            "4        GREAT FALLS GAS CO    NaN  ...     3.0     9.75000    NaN   \n",
            "...                     ...    ...  ...     ...         ...    ...   \n",
            "2975236           TESLA INC    NaN  ...     1.0  1144.76001    NaN   \n",
            "2975237           TESLA INC    NaN  ...     1.0  1056.78003    NaN   \n",
            "2975238           TESLA INC    NaN  ...     1.0   936.71997    NaN   \n",
            "2975239           TESLA INC    NaN  ...     1.0   870.42999    NaN   \n",
            "2975240           TESLA INC    NaN  ...     1.0  1077.59998    NaN   \n",
            "\n",
            "           ALTPRCDT       RETX    vwretd    vwretx    ewretd    ewretx  \\\n",
            "0        19900131.0  -0.018519 -0.070114 -0.071947 -0.046408 -0.048037   \n",
            "1        19900228.0  -0.006289  0.014900  0.010957  0.015434  0.013844   \n",
            "2        19900330.0   0.000000  0.024148  0.021626  0.021315  0.019445   \n",
            "3        19900430.0   0.000000 -0.028283 -0.030562 -0.028116 -0.029637   \n",
            "4        19900531.0  -0.012658  0.088935  0.084648  0.045673  0.043835   \n",
            "...             ...        ...       ...       ...       ...       ...   \n",
            "2975236  20211130.0   0.027612 -0.018347 -0.019703 -0.046540 -0.047915   \n",
            "2975237  20211231.0  -0.076855  0.033345  0.031577 -0.001760 -0.004799   \n",
            "2975238  20220131.0  -0.113609 -0.059754 -0.060500 -0.068191 -0.068869   \n",
            "2975239  20220228.0  -0.070768 -0.022027 -0.023310 -0.007667 -0.008624   \n",
            "2975240  20220331.0   0.238009  0.030696  0.029129  0.015438  0.013759   \n",
            "\n",
            "           sprtrn  \n",
            "0       -0.068817  \n",
            "1        0.008539  \n",
            "2        0.024255  \n",
            "3       -0.026887  \n",
            "4        0.091989  \n",
            "...           ...  \n",
            "2975236 -0.008334  \n",
            "2975237  0.043613  \n",
            "2975238 -0.052585  \n",
            "2975239 -0.031361  \n",
            "2975240  0.035773  \n",
            "\n",
            "[2975241 rows x 64 columns]\n"
          ]
        }
      ]
    },
    {
      "cell_type": "code",
      "source": [
        " ### Clean CRSP DataFrame ##\n",
        "\n",
        "#Parse/select relevant variables\n",
        "crsp1990To2022= crsp1990To2022.filter(['TICKER', 'date', 'SHRCD', 'EXCHCD', 'SICCD', 'SHROUT', 'ALTPRC', 'RET', 'DLRET', 'DLSTCD'])\n",
        "\n",
        "\n",
        "print(crsp1990To2022)"
      ],
      "metadata": {
        "colab": {
          "base_uri": "https://localhost:8080/"
        },
        "id": "cC_MejwKRA53",
        "outputId": "c07bf04d-a085-46a2-ac5c-88a425b50c0c"
      },
      "execution_count": null,
      "outputs": [
        {
          "output_type": "stream",
          "name": "stdout",
          "text": [
            "        TICKER      date  SHRCD  EXCHCD   SICCD     SHROUT      ALTPRC  \\\n",
            "0         GFGC  19900131   11.0     3.0    4920     1022.0    -9.93750   \n",
            "1         GFGC  19900228   11.0     3.0    4920     1022.0    -9.87500   \n",
            "2         GFGC  19900330   11.0     3.0    4920     1027.0    -9.87500   \n",
            "3         GFGC  19900430   11.0     3.0    4920     1027.0    -9.87500   \n",
            "4         GFGC  19900531   11.0     3.0    4920     1027.0     9.75000   \n",
            "...        ...       ...    ...     ...     ...        ...         ...   \n",
            "2975236   TSLA  20211130   11.0     3.0  9999.0  1004265.0  1144.76001   \n",
            "2975237   TSLA  20211231   11.0     3.0  9999.0  1033534.0  1056.78003   \n",
            "2975238   TSLA  20220131   11.0     3.0  9999.0  1033534.0   936.71997   \n",
            "2975239   TSLA  20220228   11.0     3.0  9999.0  1033534.0   870.42999   \n",
            "2975240   TSLA  20220331   11.0     3.0  9999.0  1033534.0  1077.59998   \n",
            "\n",
            "               RET DLRET  DLSTCD  \n",
            "0        -0.018519   NaN     NaN  \n",
            "1        -0.006289   NaN     NaN  \n",
            "2         0.012658   NaN     NaN  \n",
            "3         0.000000   NaN     NaN  \n",
            "4        -0.012658   NaN     NaN  \n",
            "...            ...   ...     ...  \n",
            "2975236   0.027612   NaN     NaN  \n",
            "2975237  -0.076855   NaN     NaN  \n",
            "2975238  -0.113609   NaN     NaN  \n",
            "2975239  -0.070768   NaN     NaN  \n",
            "2975240   0.238009     A   100.0  \n",
            "\n",
            "[2975241 rows x 10 columns]\n"
          ]
        }
      ]
    },
    {
      "cell_type": "code",
      "source": [
        "\n",
        "#Change column names\n",
        "crsp1990To2022.columns= ['tic', 'date', 'shrcd', 'exchcd', 'siccd', 'shrout', 'altprc', 'ret', 'dlret', 'dlstcd']\n",
        "\n",
        "\n",
        "print(crsp1990To2022)"
      ],
      "metadata": {
        "colab": {
          "base_uri": "https://localhost:8080/"
        },
        "id": "8Qc6gKg8HQu3",
        "outputId": "bf4de196-278b-42c7-f07f-1ad09a23643d"
      },
      "execution_count": null,
      "outputs": [
        {
          "output_type": "stream",
          "name": "stdout",
          "text": [
            "          tic      date  shrcd  exchcd   siccd     shrout      altprc  \\\n",
            "0        GFGC  19900131   11.0     3.0    4920     1022.0    -9.93750   \n",
            "1        GFGC  19900228   11.0     3.0    4920     1022.0    -9.87500   \n",
            "2        GFGC  19900330   11.0     3.0    4920     1027.0    -9.87500   \n",
            "3        GFGC  19900430   11.0     3.0    4920     1027.0    -9.87500   \n",
            "4        GFGC  19900531   11.0     3.0    4920     1027.0     9.75000   \n",
            "...       ...       ...    ...     ...     ...        ...         ...   \n",
            "2975236  TSLA  20211130   11.0     3.0  9999.0  1004265.0  1144.76001   \n",
            "2975237  TSLA  20211231   11.0     3.0  9999.0  1033534.0  1056.78003   \n",
            "2975238  TSLA  20220131   11.0     3.0  9999.0  1033534.0   936.71997   \n",
            "2975239  TSLA  20220228   11.0     3.0  9999.0  1033534.0   870.42999   \n",
            "2975240  TSLA  20220331   11.0     3.0  9999.0  1033534.0  1077.59998   \n",
            "\n",
            "               ret dlret  dlstcd  \n",
            "0        -0.018519   NaN     NaN  \n",
            "1        -0.006289   NaN     NaN  \n",
            "2         0.012658   NaN     NaN  \n",
            "3         0.000000   NaN     NaN  \n",
            "4        -0.012658   NaN     NaN  \n",
            "...            ...   ...     ...  \n",
            "2975236   0.027612   NaN     NaN  \n",
            "2975237  -0.076855   NaN     NaN  \n",
            "2975238  -0.113609   NaN     NaN  \n",
            "2975239  -0.070768   NaN     NaN  \n",
            "2975240   0.238009     A   100.0  \n",
            "\n",
            "[2975241 rows x 10 columns]\n"
          ]
        }
      ]
    },
    {
      "cell_type": "code",
      "source": [
        "#Convert variable types\n",
        "\n",
        "#correction apply to astype\n",
        "crsp1990To2022['tic']= crsp1990To2022['tic'].astype(str) #firm identifier\n"
      ],
      "metadata": {
        "id": "zNeVflYD-7tl"
      },
      "execution_count": null,
      "outputs": []
    },
    {
      "cell_type": "code",
      "source": [
        "\n",
        "crsp1990To2022['date'] = pd.to_datetime(crsp1990To2022['date'], format='%Y%m%d')\n"
      ],
      "metadata": {
        "id": "Ku38J9dwCFVm"
      },
      "execution_count": null,
      "outputs": []
    },
    {
      "cell_type": "code",
      "source": [],
      "metadata": {
        "id": "buwXcn2xCZ0U"
      },
      "execution_count": null,
      "outputs": []
    },
    {
      "cell_type": "code",
      "source": [
        "\n",
        "crsp1990To2022['shrcd']= pd.to_numeric(crsp1990To2022['shrcd'], errors= 'coerce') #exchange code\n",
        "crsp1990To2022['exchcd']= pd.to_numeric(crsp1990To2022['exchcd'], errors= 'coerce') #industry code\n",
        "crsp1990To2022['siccd']= pd.to_numeric(crsp1990To2022['siccd'], errors= 'coerce') #share outstanding (thousands)\n",
        "crsp1990To2022['shrout']= pd.to_numeric(crsp1990To2022['shrout'],errors= 'coerce') #last traded price in a month\n",
        "crsp1990To2022['altprc'] = pd.to_numeric(crsp1990To2022['altprc'], errors= 'coerce') #return\n",
        "crsp1990To2022['ret'] = pd.to_numeric(crsp1990To2022['ret'], errors= 'coerce') #delisting return\n",
        "crsp1990To2022['dlret'] = pd.to_numeric(crsp1990To2022['dlret'], errors= 'coerce') #delisting code\n",
        "crsp1990To2022['dlstcd'] = pd.to_numeric(crsp1990To2022['dlstcd'], errors= 'coerce')#delisting code\n",
        "\n",
        "#Only keep dates after 2010\n",
        "\n",
        "crsp2018To2022= crsp1990To2022[crsp1990To2022['date']>= \"2018-01-01\"]\n",
        "\n",
        "#only keep US-based common stocks\n",
        "crsp2018To2022= crsp2018To2022[(crsp2018To2022['shrcd'] == 10) |(crsp2018To2022['shrcd'] == 11)]\n",
        "\n",
        "#Only keep NYSE, AMEX, and NASDAQ exchanges\n",
        "crsp2018To2022= crsp2018To2022[(crsp2018To2022['exchcd'] == 1) |(crsp2018To2022['exchcd'] == 2) |(crsp2018To2022['exchcd'] == 3)| (crsp2018To2022['exchcd'] == 31)| (crsp2018To2022['exchcd'] == 32)| (crsp2018To2022['exchcd'] == 33)]\n",
        "\n",
        "#Convert SICCD to 2-digit level\n",
        "#floor truncates the product of decimal operation\n",
        "crsp2018To2022['siccd'] = np.floor(crsp2018To2022['siccd'] / 100)\n",
        "\n",
        "print(crsp2018To2022)"
      ],
      "metadata": {
        "colab": {
          "base_uri": "https://localhost:8080/"
        },
        "id": "BwBWGBBhCDRS",
        "outputId": "d1e1b120-783e-4456-e945-b3968fe2c36e"
      },
      "execution_count": null,
      "outputs": [
        {
          "output_type": "stream",
          "name": "stdout",
          "text": [
            "          tic       date  shrcd  exchcd  siccd     shrout      altprc  \\\n",
            "2363     JJSF 2018-01-31   11.0     3.0   20.0    18678.0   138.44000   \n",
            "2364     JJSF 2018-02-28   11.0     3.0   20.0    18678.0   134.33000   \n",
            "2365     JJSF 2018-03-29   11.0     3.0   20.0    18697.0   136.56000   \n",
            "2366     JJSF 2018-04-30   11.0     3.0   20.0    18702.0   137.41000   \n",
            "2367     JJSF 2018-05-31   11.0     3.0   20.0    18702.0   141.62000   \n",
            "...       ...        ...    ...     ...    ...        ...         ...   \n",
            "2975236  TSLA 2021-11-30   11.0     3.0   99.0  1004265.0  1144.76001   \n",
            "2975237  TSLA 2021-12-31   11.0     3.0   99.0  1033534.0  1056.78003   \n",
            "2975238  TSLA 2022-01-31   11.0     3.0   99.0  1033534.0   936.71997   \n",
            "2975239  TSLA 2022-02-28   11.0     3.0   99.0  1033534.0   870.42999   \n",
            "2975240  TSLA 2022-03-31   11.0     3.0   99.0  1033534.0  1077.59998   \n",
            "\n",
            "              ret  dlret  dlstcd  \n",
            "2363    -0.088191    NaN     NaN  \n",
            "2364    -0.029688    NaN     NaN  \n",
            "2365     0.019951    NaN     NaN  \n",
            "2366     0.006224    NaN     NaN  \n",
            "2367     0.030638    NaN     NaN  \n",
            "...           ...    ...     ...  \n",
            "2975236  0.027612    NaN     NaN  \n",
            "2975237 -0.076855    NaN     NaN  \n",
            "2975238 -0.113609    NaN     NaN  \n",
            "2975239 -0.070768    NaN     NaN  \n",
            "2975240  0.238009    NaN   100.0  \n",
            "\n",
            "[193914 rows x 10 columns]\n"
          ]
        }
      ]
    },
    {
      "cell_type": "code",
      "source": [
        "\n",
        "#Adjust delisting returns\n",
        "crsp2018To2022['ret_adj']= \"\"\n",
        "\n",
        "# for i in crsp2018To2022.index:\n",
        "\n",
        "#   if (pd.isnull(crsp2018To2022['dlstcd'][i])) or (crsp2018To2022['dlstcd'][i] == 180):\n",
        "#     crsp2018To2022['ret_adj'][i]=crsp2018To2022['ret'][i]\n",
        "\n",
        "#   elif(pd.notnull(crsp2018To2022['dlstcd'][i])) and (pd.notnull(crsp2018To2022['dlret'][i])):\n",
        "#     crsp2018To2022['ret_adj'][i]= crsp2018To2022['dlret'][i]\n",
        "\n",
        "# #equal to any of the [] numbers\n",
        "#   elif(551 <= crsp2018To2022['dlstcd'][1] <= 574) or (crsp2018To2022['dlstcd'][i] in [500, 520, 500, 584]):\n",
        "#     crsp2018To2022['ret adj'][i]= -0.3\n",
        "\n",
        "#   else:\n",
        "#     crsp2018To2022['ret_adj'][i] = -1\n",
        "\n",
        "#optimized and vectorized code for if, elif , else statement\n",
        "#conditions [abc] choices [xyz]\n",
        "#np.select(conditions, choices, default= else condition) is the key\n",
        "conditions = [\n",
        "    (crsp2018To2022['dlstcd'].isnull()) | (crsp2018To2022['dlstcd'] == 180),\n",
        "    (crsp2018To2022['dlstcd'].notnull()) & (crsp2018To2022['dlret'].notnull()),\n",
        "    (crsp2018To2022['dlstcd'].between(551, 574)) | (crsp2018To2022['dlstcd'].isin([500, 520, 584]))]\n",
        "\n",
        "choices = [\n",
        "    crsp2018To2022['ret'],\n",
        "    crsp2018To2022['dlret'],\n",
        "    -0.3]\n",
        "\n",
        "crsp2018To2022['ret_adj'] = np.select(conditions, choices, default=-1)\n",
        "\n",
        "print(crsp2018To2022)"
      ],
      "metadata": {
        "colab": {
          "base_uri": "https://localhost:8080/"
        },
        "id": "Lq6grUDt_Dm1",
        "outputId": "7899dc8e-06e3-44a0-f686-fd0e771aa876"
      },
      "execution_count": null,
      "outputs": [
        {
          "output_type": "stream",
          "name": "stdout",
          "text": [
            "          tic       date  shrcd  exchcd  siccd     shrout      altprc  \\\n",
            "2363     JJSF 2018-01-31   11.0     3.0   20.0    18678.0   138.44000   \n",
            "2364     JJSF 2018-02-28   11.0     3.0   20.0    18678.0   134.33000   \n",
            "2365     JJSF 2018-03-29   11.0     3.0   20.0    18697.0   136.56000   \n",
            "2366     JJSF 2018-04-30   11.0     3.0   20.0    18702.0   137.41000   \n",
            "2367     JJSF 2018-05-31   11.0     3.0   20.0    18702.0   141.62000   \n",
            "...       ...        ...    ...     ...    ...        ...         ...   \n",
            "2975236  TSLA 2021-11-30   11.0     3.0   99.0  1004265.0  1144.76001   \n",
            "2975237  TSLA 2021-12-31   11.0     3.0   99.0  1033534.0  1056.78003   \n",
            "2975238  TSLA 2022-01-31   11.0     3.0   99.0  1033534.0   936.71997   \n",
            "2975239  TSLA 2022-02-28   11.0     3.0   99.0  1033534.0   870.42999   \n",
            "2975240  TSLA 2022-03-31   11.0     3.0   99.0  1033534.0  1077.59998   \n",
            "\n",
            "              ret  dlret  dlstcd   ret_adj  \n",
            "2363    -0.088191    NaN     NaN -0.088191  \n",
            "2364    -0.029688    NaN     NaN -0.029688  \n",
            "2365     0.019951    NaN     NaN  0.019951  \n",
            "2366     0.006224    NaN     NaN  0.006224  \n",
            "2367     0.030638    NaN     NaN  0.030638  \n",
            "...           ...    ...     ...       ...  \n",
            "2975236  0.027612    NaN     NaN  0.027612  \n",
            "2975237 -0.076855    NaN     NaN -0.076855  \n",
            "2975238 -0.113609    NaN     NaN -0.113609  \n",
            "2975239 -0.070768    NaN     NaN -0.070768  \n",
            "2975240  0.238009    NaN   100.0 -1.000000  \n",
            "\n",
            "[193914 rows x 11 columns]\n"
          ]
        }
      ]
    },
    {
      "cell_type": "code",
      "source": [
        "\n",
        "crsp2018To2022.drop('dlret', inplace=True, axis= 1)\n",
        "crsp2018To2022.drop('dlstcd', inplace=True, axis= 1)\n",
        "\n",
        "print(crsp2018To2022)"
      ],
      "metadata": {
        "colab": {
          "base_uri": "https://localhost:8080/"
        },
        "id": "iDu4-Kml_QRc",
        "outputId": "fe112cae-1292-4fba-a729-521c25f444af"
      },
      "execution_count": null,
      "outputs": [
        {
          "output_type": "stream",
          "name": "stdout",
          "text": [
            "          tic       date  shrcd  exchcd  siccd     shrout      altprc  \\\n",
            "2363     JJSF 2018-01-31   11.0     3.0   20.0    18678.0   138.44000   \n",
            "2364     JJSF 2018-02-28   11.0     3.0   20.0    18678.0   134.33000   \n",
            "2365     JJSF 2018-03-29   11.0     3.0   20.0    18697.0   136.56000   \n",
            "2366     JJSF 2018-04-30   11.0     3.0   20.0    18702.0   137.41000   \n",
            "2367     JJSF 2018-05-31   11.0     3.0   20.0    18702.0   141.62000   \n",
            "...       ...        ...    ...     ...    ...        ...         ...   \n",
            "2975236  TSLA 2021-11-30   11.0     3.0   99.0  1004265.0  1144.76001   \n",
            "2975237  TSLA 2021-12-31   11.0     3.0   99.0  1033534.0  1056.78003   \n",
            "2975238  TSLA 2022-01-31   11.0     3.0   99.0  1033534.0   936.71997   \n",
            "2975239  TSLA 2022-02-28   11.0     3.0   99.0  1033534.0   870.42999   \n",
            "2975240  TSLA 2022-03-31   11.0     3.0   99.0  1033534.0  1077.59998   \n",
            "\n",
            "              ret   ret_adj  \n",
            "2363    -0.088191 -0.088191  \n",
            "2364    -0.029688 -0.029688  \n",
            "2365     0.019951  0.019951  \n",
            "2366     0.006224  0.006224  \n",
            "2367     0.030638  0.030638  \n",
            "...           ...       ...  \n",
            "2975236  0.027612  0.027612  \n",
            "2975237 -0.076855 -0.076855  \n",
            "2975238 -0.113609 -0.113609  \n",
            "2975239 -0.070768 -0.070768  \n",
            "2975240  0.238009 -1.000000  \n",
            "\n",
            "[193914 rows x 9 columns]\n"
          ]
        }
      ]
    },
    {
      "cell_type": "markdown",
      "source": [
        "clean compustat"
      ],
      "metadata": {
        "id": "aHeN_73f_Hh-"
      }
    },
    {
      "cell_type": "code",
      "source": [
        "### Import Compustat CSV ###\n",
        "\n",
        "file = \"/content/gdrive/MyDrive/Exeter google drive /internships jobs/FIMA '23/Sloane Accruals/CompustatAnnual1950to2022.csv\"\n",
        "\n",
        "columnsToUse = ['tic', 'datadate', 'fyear', 'indfmt', 'datafmt', 'che', 'act', 'lct', 'at', 'dp', 'ib', 'dlc', 'txp', 'oiadp']\n",
        "compustat1950To2022= pd.read_csv(file,infer_datetime_format=True,  usecols= columnsToUse)[columnsToUse]\n",
        "\n",
        "print(compustat1950To2022)\n",
        "print(compustat1950To2022.columns)"
      ],
      "metadata": {
        "colab": {
          "base_uri": "https://localhost:8080/"
        },
        "id": "93kfk3CeRIQK",
        "outputId": "02dba76b-5f54-4c15-8ab1-56d91da7b90b"
      },
      "execution_count": null,
      "outputs": [
        {
          "output_type": "stream",
          "name": "stdout",
          "text": [
            "          tic  datadate   fyear indfmt datafmt       che        act  \\\n",
            "0        AE.2  19611231  1961.0   INDL     STD       NaN        NaN   \n",
            "1        AE.2  19621231  1962.0   INDL     STD       NaN        NaN   \n",
            "2        AE.2  19631231  1963.0   INDL     STD       NaN      0.408   \n",
            "3        AE.2  19641231  1964.0   INDL     STD     0.269      0.718   \n",
            "4        AE.2  19651231  1965.0   INDL     STD     0.031      0.725   \n",
            "...       ...       ...     ...    ...     ...       ...        ...   \n",
            "591305  IVCGF  20201231  2020.0   INDL     STD   558.000  12100.000   \n",
            "591306  IVCGF  20211231  2021.0   INDL     STD  1020.181  12385.477   \n",
            "591307  DTRUY  20191231  2019.0   INDL     STD  6532.226  31890.187   \n",
            "591308  DTRUY  20201231  2020.0   INDL     STD  9012.671  30632.474   \n",
            "591309  DTRUY  20211231  2021.0   INDL     STD  8358.207  31787.117   \n",
            "\n",
            "              lct         at        dp        ib        dlc      txp     oiadp  \n",
            "0             NaN        NaN       NaN     0.050        NaN      NaN       NaN  \n",
            "1             NaN        NaN     0.040     0.120        NaN      NaN       NaN  \n",
            "2           0.322        NaN     0.046     0.003        NaN    0.000     0.000  \n",
            "3           0.267      1.416     0.053     0.039      0.088    0.007     0.074  \n",
            "4           0.623      2.310     0.082    -0.197      0.300    0.000    -0.242  \n",
            "...           ...        ...       ...       ...        ...      ...       ...  \n",
            "591305  13594.000  18841.000   991.000  -492.000   6205.000   78.000    67.000  \n",
            "591306        NaN  18834.114   895.075    59.141   6293.960   55.729   527.719  \n",
            "591307  25164.947  62131.888  2413.815  1942.498  13242.877  151.495  2579.898  \n",
            "591308  25743.429  60256.041  2644.617  -172.370  14229.582  125.360   154.290  \n",
            "591309  19725.777  62325.449  2035.813  2669.303   6231.408  276.370  1875.449  \n",
            "\n",
            "[591310 rows x 14 columns]\n",
            "Index(['tic', 'datadate', 'fyear', 'indfmt', 'datafmt', 'che', 'act', 'lct',\n",
            "       'at', 'dp', 'ib', 'dlc', 'txp', 'oiadp'],\n",
            "      dtype='object')\n"
          ]
        }
      ]
    },
    {
      "cell_type": "code",
      "source": [
        "#5\n",
        "\n",
        "### Clean Compustat Dataframe ###\n"
      ],
      "metadata": {
        "id": "BmAP00f-ZqEF"
      },
      "execution_count": null,
      "outputs": []
    },
    {
      "cell_type": "code",
      "source": [
        "\n",
        "#Change column names\n",
        "\n",
        "compustat1950To2022.columns= ['tic', 'datadate', 'fyear', 'indfmt', 'datafmt', 'cash', 'ca', 'cl', 'ta', 'dep', 'ib', 'std', 'tp', 'oiadp']\n"
      ],
      "metadata": {
        "id": "RfW8vVGHGcMF"
      },
      "execution_count": null,
      "outputs": []
    },
    {
      "cell_type": "code",
      "source": [
        "compustat1950To2022['tic']= compustat1950To2022['tic'].astype(str) #firm identifion\n",
        "\n",
        "compustat1950To2022['datadate'] = pd.to_datetime(compustat1950To2022['datadate'], format= '%Y%m%d') #date of data\n",
        "\n",
        "compustat1950To2022['fyear'] = pd.to_numeric(compustat1950To2022['fyear'], errors= 'coerce') #fiscal year of data\n",
        "\n",
        "compustat1950To2022['indfmt']= compustat1950To2022['indfmt'].astype(str) #industry format\n",
        "\n",
        "compustat1950To2022['datafmt']= compustat1950To2022['datafmt'].astype(str) #data fat\n",
        "\n",
        "compustat1950To2022['cash']= pd.to_numeric(compustat1950To2022['cash'], errors= 'coerce') #cash and short-term investements\n",
        "\n",
        "compustat1950To2022['ca'] = pd.to_numeric(compustat1950To2022['ca'], errors= 'coerce') #current assets\n",
        "\n",
        "compustat1950To2022['cl'] = pd.to_numeric(compustat1950To2022['cl'], errors= 'coerce') #current liabilities\n",
        "\n",
        "compustat1950To2022['ta']= pd.to_numeric(compustat1950To2022['ta'],errors= 'coerce') #total assets\n",
        "\n",
        "compustat1950To2022['dep']= pd.to_numeric(compustat1950To2022['dep'], errors= 'coerce') #depreciation and amortization compustat1950To2022['ib] = pd.to numeric(compustat1950702822[1b1, errors coerce\") #income before extraordinary items\n",
        "\n",
        "compustat1950To2022['std']= pd.to_numeric(compustat1950To2022['std'], errors= 'coerce') #debt in current liabilities\n",
        "\n",
        "compustat1950To2022['tp'] = pd.to_numeric(compustat1950To2022['tp'], errors= 'coerce') #income taxes payable\n",
        "\n",
        "compustat1950To2022['oiadp'] = pd.to_numeric(compustat1950To2022['oiadp'], errors= 'coerce') #operating income after depreciation\n"
      ],
      "metadata": {
        "id": "Jhq25N1pGg8-"
      },
      "execution_count": null,
      "outputs": []
    },
    {
      "cell_type": "code",
      "source": [
        "print(compustat1950To2022)\n",
        "print(compustat1950To2022.columns)"
      ],
      "metadata": {
        "colab": {
          "base_uri": "https://localhost:8080/"
        },
        "id": "QRKsmRRoG9ee",
        "outputId": "ccee76b6-e616-4cc0-c171-d41b225fc1ba"
      },
      "execution_count": null,
      "outputs": [
        {
          "output_type": "stream",
          "name": "stdout",
          "text": [
            "          tic   datadate   fyear indfmt datafmt      cash         ca  \\\n",
            "0        AE.2 1961-12-31  1961.0   INDL     STD       NaN        NaN   \n",
            "1        AE.2 1962-12-31  1962.0   INDL     STD       NaN        NaN   \n",
            "2        AE.2 1963-12-31  1963.0   INDL     STD       NaN      0.408   \n",
            "3        AE.2 1964-12-31  1964.0   INDL     STD     0.269      0.718   \n",
            "4        AE.2 1965-12-31  1965.0   INDL     STD     0.031      0.725   \n",
            "...       ...        ...     ...    ...     ...       ...        ...   \n",
            "591305  IVCGF 2020-12-31  2020.0   INDL     STD   558.000  12100.000   \n",
            "591306  IVCGF 2021-12-31  2021.0   INDL     STD  1020.181  12385.477   \n",
            "591307  DTRUY 2019-12-31  2019.0   INDL     STD  6532.226  31890.187   \n",
            "591308  DTRUY 2020-12-31  2020.0   INDL     STD  9012.671  30632.474   \n",
            "591309  DTRUY 2021-12-31  2021.0   INDL     STD  8358.207  31787.117   \n",
            "\n",
            "               cl         ta       dep        ib        std       tp     oiadp  \n",
            "0             NaN        NaN       NaN     0.050        NaN      NaN       NaN  \n",
            "1             NaN        NaN     0.040     0.120        NaN      NaN       NaN  \n",
            "2           0.322        NaN     0.046     0.003        NaN    0.000     0.000  \n",
            "3           0.267      1.416     0.053     0.039      0.088    0.007     0.074  \n",
            "4           0.623      2.310     0.082    -0.197      0.300    0.000    -0.242  \n",
            "...           ...        ...       ...       ...        ...      ...       ...  \n",
            "591305  13594.000  18841.000   991.000  -492.000   6205.000   78.000    67.000  \n",
            "591306        NaN  18834.114   895.075    59.141   6293.960   55.729   527.719  \n",
            "591307  25164.947  62131.888  2413.815  1942.498  13242.877  151.495  2579.898  \n",
            "591308  25743.429  60256.041  2644.617  -172.370  14229.582  125.360   154.290  \n",
            "591309  19725.777  62325.449  2035.813  2669.303   6231.408  276.370  1875.449  \n",
            "\n",
            "[591310 rows x 14 columns]\n",
            "Index(['tic', 'datadate', 'fyear', 'indfmt', 'datafmt', 'cash', 'ca', 'cl',\n",
            "       'ta', 'dep', 'ib', 'std', 'tp', 'oiadp'],\n",
            "      dtype='object')\n"
          ]
        }
      ]
    },
    {
      "cell_type": "code",
      "source": [
        "\n",
        "#Only keep data after 2017\n",
        "\n",
        "\n",
        "#crsp2018To2022= crsp1990To2022[crsp1990To2022['date']>= \"2018-01-01\"]\n",
        "compustat2018To2022= compustat1950To2022[compustat1950To2022['datadate']>= \"2017-01-01\"]\n",
        "\n",
        "#Only keep correct formats\n",
        "\n",
        "compustat2018To2022= compustat2018To2022[compustat2018To2022['indfmt']== \"INDL\"]\n",
        "compustat2018To2022= compustat2018To2022[compustat2018To2022['datafmt']== \"STD\"]\n",
        "\n",
        "#Drop Infinite/null values\n",
        "\n",
        "compustat2018To2022.replace([np.inf, np.inf], np.nan, inplace=True)\n",
        "\n",
        "compustat2018To2022= compustat2018To2022.dropna()\n",
        "\n",
        "#reindex\n",
        "\n",
        "compustat2018To2022= compustat2018To2022.reset_index()\n",
        "\n",
        "compustat2018To2022.drop('index', inplace=True, axis = 1)\n",
        "\n",
        "print(compustat2018To2022)\n",
        "print(compustat2018To2022.columns)"
      ],
      "metadata": {
        "colab": {
          "base_uri": "https://localhost:8080/"
        },
        "id": "LIDOTa-jGm07",
        "outputId": "22a45ce8-63cd-40ed-8b78-98c9936e170e"
      },
      "execution_count": null,
      "outputs": [
        {
          "output_type": "stream",
          "name": "stdout",
          "text": [
            "         tic   datadate   fyear indfmt datafmt      cash         ca  \\\n",
            "0        AIR 2017-05-31  2016.0   INDL     STD    10.300    888.500   \n",
            "1        AIR 2018-05-31  2017.0   INDL     STD    41.600    942.700   \n",
            "2        AIR 2019-05-31  2018.0   INDL     STD    41.100    952.500   \n",
            "3        AIR 2020-05-31  2019.0   INDL     STD   424.700   1438.700   \n",
            "4        AIR 2021-05-31  2020.0   INDL     STD    60.200    937.000   \n",
            "...      ...        ...     ...    ...     ...       ...        ...   \n",
            "32179  IVCGF 2019-12-31  2019.0   INDL     STD   468.000  11570.000   \n",
            "32180  IVCGF 2020-12-31  2020.0   INDL     STD   558.000  12100.000   \n",
            "32181  DTRUY 2019-12-31  2019.0   INDL     STD  6532.226  31890.187   \n",
            "32182  DTRUY 2020-12-31  2020.0   INDL     STD  9012.671  30632.474   \n",
            "32183  DTRUY 2021-12-31  2021.0   INDL     STD  8358.207  31787.117   \n",
            "\n",
            "              cl         ta       dep        ib        std       tp     oiadp  \n",
            "0        335.100   1504.100    71.000    50.200      2.000   12.300    77.200  \n",
            "1        333.300   1524.700    40.500    73.700      0.000    0.000    86.000  \n",
            "2        357.500   1517.200    42.800    84.100      0.000    0.000   110.700  \n",
            "3        383.100   2079.000    43.700    24.800     13.700    0.000   106.400  \n",
            "4        336.800   1539.700    36.300    46.300     11.500    0.700    65.500  \n",
            "...          ...        ...       ...       ...        ...      ...       ...  \n",
            "32179  12588.000  17847.000   912.000    94.000   5561.000  120.000   650.000  \n",
            "32180  13594.000  18841.000   991.000  -492.000   6205.000   78.000    67.000  \n",
            "32181  25164.947  62131.888  2413.815  1942.498  13242.877  151.495  2579.898  \n",
            "32182  25743.429  60256.041  2644.617  -172.370  14229.582  125.360   154.290  \n",
            "32183  19725.777  62325.449  2035.813  2669.303   6231.408  276.370  1875.449  \n",
            "\n",
            "[32184 rows x 14 columns]\n",
            "Index(['tic', 'datadate', 'fyear', 'indfmt', 'datafmt', 'cash', 'ca', 'cl',\n",
            "       'ta', 'dep', 'ib', 'std', 'tp', 'oiadp'],\n",
            "      dtype='object')\n"
          ]
        }
      ]
    },
    {
      "cell_type": "code",
      "source": [
        "\n",
        "#Calculate change delta) in variables\n",
        "\n",
        "compustat2018To2022['delta_cash']= compustat2018To2022.groupby(['tic'])['cash'].diff()\n",
        "\n",
        "compustat2018To2022['delta_ca']= compustat2018To2022.groupby(['tic'])['ca'].diff()\n",
        "\n",
        "compustat2018To2022['delta_cl']= compustat2018To2022.groupby(['tic'])['cl'].diff()\n",
        "\n",
        "compustat2018To2022['delta_std']= compustat2018To2022.groupby(['tic'])['std'].diff()\n",
        "\n",
        "compustat2018To2022['delta_tp']= compustat2018To2022.groupby(['tic'])['tp'].diff()\n",
        "\n",
        "#Drup null values (first year no difference computed)\n",
        "\n",
        "compustat2018To2022= compustat2018To2022.dropna()\n"
      ],
      "metadata": {
        "id": "PZEl4cSNGvCU"
      },
      "execution_count": null,
      "outputs": []
    },
    {
      "cell_type": "code",
      "source": [
        "\n",
        "print(compustat2018To2022)\n",
        "print(compustat2018To2022.columns)"
      ],
      "metadata": {
        "colab": {
          "base_uri": "https://localhost:8080/"
        },
        "id": "jeZFlK7cI9WP",
        "outputId": "61dc0e65-8031-4779-bc85-d43bee8e38ed"
      },
      "execution_count": null,
      "outputs": [
        {
          "output_type": "stream",
          "name": "stdout",
          "text": [
            "         tic   datadate   fyear indfmt datafmt      cash         ca  \\\n",
            "1        AIR 2018-05-31  2017.0   INDL     STD    41.600    942.700   \n",
            "2        AIR 2019-05-31  2018.0   INDL     STD    41.100    952.500   \n",
            "3        AIR 2020-05-31  2019.0   INDL     STD   424.700   1438.700   \n",
            "4        AIR 2021-05-31  2020.0   INDL     STD    60.200    937.000   \n",
            "5        AIR 2022-05-31  2021.0   INDL     STD    58.900   1007.200   \n",
            "...      ...        ...     ...    ...     ...       ...        ...   \n",
            "32176   KARO 2021-02-28  2020.0   INDL     STD    65.057     87.432   \n",
            "32177   KARO 2022-02-28  2021.0   INDL     STD    47.427     72.275   \n",
            "32180  IVCGF 2020-12-31  2020.0   INDL     STD   558.000  12100.000   \n",
            "32182  DTRUY 2020-12-31  2020.0   INDL     STD  9012.671  30632.474   \n",
            "32183  DTRUY 2021-12-31  2021.0   INDL     STD  8358.207  31787.117   \n",
            "\n",
            "              cl         ta       dep        ib        std       tp     oiadp  \\\n",
            "1        333.300   1524.700    40.500    73.700      0.000    0.000    86.000   \n",
            "2        357.500   1517.200    42.800    84.100      0.000    0.000   110.700   \n",
            "3        383.100   2079.000    43.700    24.800     13.700    0.000   106.400   \n",
            "4        336.800   1539.700    36.300    46.300     11.500    0.700    65.500   \n",
            "5        348.200   1573.900    33.100    78.500     11.100    0.000   116.200   \n",
            "...          ...        ...       ...       ...        ...      ...       ...   \n",
            "32176     94.504    192.079    26.276    20.965      4.790    1.688    53.058   \n",
            "32177     40.451    200.247    32.235    29.163      5.131    2.652    51.920   \n",
            "32180  13594.000  18841.000   991.000  -492.000   6205.000   78.000    67.000   \n",
            "32182  25743.429  60256.041  2644.617  -172.370  14229.582  125.360   154.290   \n",
            "32183  19725.777  62325.449  2035.813  2669.303   6231.408  276.370  1875.449   \n",
            "\n",
            "       delta_cash  delta_ca  delta_cl  delta_std  delta_tp  \n",
            "1          31.300    54.200    -1.800     -2.000   -12.300  \n",
            "2          -0.500     9.800    24.200      0.000     0.000  \n",
            "3         383.600   486.200    25.600     13.700     0.000  \n",
            "4        -364.500  -501.700   -46.300     -2.200     0.700  \n",
            "5          -1.300    70.200    11.400     -0.400    -0.700  \n",
            "...           ...       ...       ...        ...       ...  \n",
            "32176      55.718    51.281    68.579      1.605     0.225  \n",
            "32177     -17.630   -15.157   -54.053      0.341     0.964  \n",
            "32180      90.000   530.000  1006.000    644.000   -42.000  \n",
            "32182    2480.445 -1257.713   578.482    986.705   -26.135  \n",
            "32183    -654.464  1154.643 -6017.652  -7998.174   151.010  \n",
            "\n",
            "[24350 rows x 19 columns]\n",
            "Index(['tic', 'datadate', 'fyear', 'indfmt', 'datafmt', 'cash', 'ca', 'cl',\n",
            "       'ta', 'dep', 'ib', 'std', 'tp', 'oiadp', 'delta_cash', 'delta_ca',\n",
            "       'delta_cl', 'delta_std', 'delta_tp'],\n",
            "      dtype='object')\n"
          ]
        }
      ]
    },
    {
      "cell_type": "code",
      "source": [
        "\n",
        "\n",
        "\n",
        "#Calculate accruals\n",
        "\n",
        "compustat2018To2022['accruals']= (compustat2018To2022['delta_ca']- compustat2018To2022['delta_cash'] - compustat2018To2022['delta_cl'] - compustat2018To2022['delta_std'] - compustat2018To2022['delta_tp'])- compustat2018To2022['dep']\n",
        "\n",
        "compustat2018To2022['accruals_subcomp_1']= compustat2018To2022['delta_ca']- compustat2018To2022 ['delta_cash']\n",
        "\n",
        "compustat2018To2022['accruals_subcomp_2'] = -(compustat2018To2022['delta_cl']- compustat2018To2022['delta_std']- compustat2018To2022['delta_tp'])\n",
        "\n",
        "compustat2018To2022['accruals_subcomp_3']= -(compustat2018To2022['dep'])\n",
        "\n",
        "\n",
        "print(compustat2018To2022)\n",
        "print(compustat2018To2022.columns)"
      ],
      "metadata": {
        "colab": {
          "base_uri": "https://localhost:8080/"
        },
        "id": "navMhrSrG0DY",
        "outputId": "7ee57d28-f50a-4649-b1bb-58575905eebe"
      },
      "execution_count": null,
      "outputs": [
        {
          "output_type": "stream",
          "name": "stdout",
          "text": [
            "         tic   datadate   fyear indfmt datafmt      cash         ca  \\\n",
            "1        AIR 2018-05-31  2017.0   INDL     STD    41.600    942.700   \n",
            "2        AIR 2019-05-31  2018.0   INDL     STD    41.100    952.500   \n",
            "3        AIR 2020-05-31  2019.0   INDL     STD   424.700   1438.700   \n",
            "4        AIR 2021-05-31  2020.0   INDL     STD    60.200    937.000   \n",
            "5        AIR 2022-05-31  2021.0   INDL     STD    58.900   1007.200   \n",
            "...      ...        ...     ...    ...     ...       ...        ...   \n",
            "32176   KARO 2021-02-28  2020.0   INDL     STD    65.057     87.432   \n",
            "32177   KARO 2022-02-28  2021.0   INDL     STD    47.427     72.275   \n",
            "32180  IVCGF 2020-12-31  2020.0   INDL     STD   558.000  12100.000   \n",
            "32182  DTRUY 2020-12-31  2020.0   INDL     STD  9012.671  30632.474   \n",
            "32183  DTRUY 2021-12-31  2021.0   INDL     STD  8358.207  31787.117   \n",
            "\n",
            "              cl         ta       dep  ...     oiadp  delta_cash  delta_ca  \\\n",
            "1        333.300   1524.700    40.500  ...    86.000      31.300    54.200   \n",
            "2        357.500   1517.200    42.800  ...   110.700      -0.500     9.800   \n",
            "3        383.100   2079.000    43.700  ...   106.400     383.600   486.200   \n",
            "4        336.800   1539.700    36.300  ...    65.500    -364.500  -501.700   \n",
            "5        348.200   1573.900    33.100  ...   116.200      -1.300    70.200   \n",
            "...          ...        ...       ...  ...       ...         ...       ...   \n",
            "32176     94.504    192.079    26.276  ...    53.058      55.718    51.281   \n",
            "32177     40.451    200.247    32.235  ...    51.920     -17.630   -15.157   \n",
            "32180  13594.000  18841.000   991.000  ...    67.000      90.000   530.000   \n",
            "32182  25743.429  60256.041  2644.617  ...   154.290    2480.445 -1257.713   \n",
            "32183  19725.777  62325.449  2035.813  ...  1875.449    -654.464  1154.643   \n",
            "\n",
            "       delta_cl  delta_std  delta_tp   accruals  accruals_subcomp_1  \\\n",
            "1        -1.800     -2.000   -12.300     -1.500              22.900   \n",
            "2        24.200      0.000     0.000    -56.700              10.300   \n",
            "3        25.600     13.700     0.000     19.600             102.600   \n",
            "4       -46.300     -2.200     0.700   -125.700            -137.200   \n",
            "5        11.400     -0.400    -0.700     28.100              71.500   \n",
            "...         ...        ...       ...        ...                 ...   \n",
            "32176    68.579      1.605     0.225   -101.122              -4.437   \n",
            "32177   -54.053      0.341     0.964     22.986               2.473   \n",
            "32180  1006.000    644.000   -42.000  -2159.000             440.000   \n",
            "32182   578.482    986.705   -26.135  -7921.827           -3738.158   \n",
            "32183 -6017.652  -7998.174   151.010  13638.110            1809.107   \n",
            "\n",
            "       accruals_subcomp_2  accruals_subcomp_3  \n",
            "1                 -12.500             -40.500  \n",
            "2                 -24.200             -42.800  \n",
            "3                 -11.900             -43.700  \n",
            "4                  44.800             -36.300  \n",
            "5                 -12.500             -33.100  \n",
            "...                   ...                 ...  \n",
            "32176             -66.749             -26.276  \n",
            "32177              55.358             -32.235  \n",
            "32180            -404.000            -991.000  \n",
            "32182             382.088           -2644.617  \n",
            "32183           -1829.512           -2035.813  \n",
            "\n",
            "[24350 rows x 23 columns]\n",
            "Index(['tic', 'datadate', 'fyear', 'indfmt', 'datafmt', 'cash', 'ca', 'cl',\n",
            "       'ta', 'dep', 'ib', 'std', 'tp', 'oiadp', 'delta_cash', 'delta_ca',\n",
            "       'delta_cl', 'delta_std', 'delta_tp', 'accruals', 'accruals_subcomp_1',\n",
            "       'accruals_subcomp_2', 'accruals_subcomp_3'],\n",
            "      dtype='object')\n"
          ]
        }
      ]
    },
    {
      "cell_type": "code",
      "source": [
        "#5\n",
        "#Calculate average total assets\n",
        "\n",
        "print(compustat2018To2022)"
      ],
      "metadata": {
        "id": "p_v8eXf8ZrVU",
        "colab": {
          "base_uri": "https://localhost:8080/"
        },
        "outputId": "b6770547-9f2f-4220-93de-a68dff83d095"
      },
      "execution_count": null,
      "outputs": [
        {
          "output_type": "stream",
          "name": "stdout",
          "text": [
            "         tic   datadate   fyear indfmt datafmt      cash         ca  \\\n",
            "1        AIR 2018-05-31  2017.0   INDL     STD    41.600    942.700   \n",
            "2        AIR 2019-05-31  2018.0   INDL     STD    41.100    952.500   \n",
            "3        AIR 2020-05-31  2019.0   INDL     STD   424.700   1438.700   \n",
            "4        AIR 2021-05-31  2020.0   INDL     STD    60.200    937.000   \n",
            "5        AIR 2022-05-31  2021.0   INDL     STD    58.900   1007.200   \n",
            "...      ...        ...     ...    ...     ...       ...        ...   \n",
            "32176   KARO 2021-02-28  2020.0   INDL     STD    65.057     87.432   \n",
            "32177   KARO 2022-02-28  2021.0   INDL     STD    47.427     72.275   \n",
            "32180  IVCGF 2020-12-31  2020.0   INDL     STD   558.000  12100.000   \n",
            "32182  DTRUY 2020-12-31  2020.0   INDL     STD  9012.671  30632.474   \n",
            "32183  DTRUY 2021-12-31  2021.0   INDL     STD  8358.207  31787.117   \n",
            "\n",
            "              cl         ta       dep  ...     oiadp  delta_cash  delta_ca  \\\n",
            "1        333.300   1524.700    40.500  ...    86.000      31.300    54.200   \n",
            "2        357.500   1517.200    42.800  ...   110.700      -0.500     9.800   \n",
            "3        383.100   2079.000    43.700  ...   106.400     383.600   486.200   \n",
            "4        336.800   1539.700    36.300  ...    65.500    -364.500  -501.700   \n",
            "5        348.200   1573.900    33.100  ...   116.200      -1.300    70.200   \n",
            "...          ...        ...       ...  ...       ...         ...       ...   \n",
            "32176     94.504    192.079    26.276  ...    53.058      55.718    51.281   \n",
            "32177     40.451    200.247    32.235  ...    51.920     -17.630   -15.157   \n",
            "32180  13594.000  18841.000   991.000  ...    67.000      90.000   530.000   \n",
            "32182  25743.429  60256.041  2644.617  ...   154.290    2480.445 -1257.713   \n",
            "32183  19725.777  62325.449  2035.813  ...  1875.449    -654.464  1154.643   \n",
            "\n",
            "       delta_cl  delta_std  delta_tp   accruals  accruals_subcomp_1  \\\n",
            "1        -1.800     -2.000   -12.300     -1.500              22.900   \n",
            "2        24.200      0.000     0.000    -56.700              10.300   \n",
            "3        25.600     13.700     0.000     19.600             102.600   \n",
            "4       -46.300     -2.200     0.700   -125.700            -137.200   \n",
            "5        11.400     -0.400    -0.700     28.100              71.500   \n",
            "...         ...        ...       ...        ...                 ...   \n",
            "32176    68.579      1.605     0.225   -101.122              -4.437   \n",
            "32177   -54.053      0.341     0.964     22.986               2.473   \n",
            "32180  1006.000    644.000   -42.000  -2159.000             440.000   \n",
            "32182   578.482    986.705   -26.135  -7921.827           -3738.158   \n",
            "32183 -6017.652  -7998.174   151.010  13638.110            1809.107   \n",
            "\n",
            "       accruals_subcomp_2  accruals_subcomp_3  \n",
            "1                 -12.500             -40.500  \n",
            "2                 -24.200             -42.800  \n",
            "3                 -11.900             -43.700  \n",
            "4                  44.800             -36.300  \n",
            "5                 -12.500             -33.100  \n",
            "...                   ...                 ...  \n",
            "32176             -66.749             -26.276  \n",
            "32177              55.358             -32.235  \n",
            "32180            -404.000            -991.000  \n",
            "32182             382.088           -2644.617  \n",
            "32183           -1829.512           -2035.813  \n",
            "\n",
            "[24350 rows x 23 columns]\n"
          ]
        }
      ]
    },
    {
      "cell_type": "code",
      "source": [
        "avgATDF = compustat2018To2022.groupby(['tic'], as_index = False)['ta'].mean()\n",
        "\n",
        "avgATDF.columns = ['tic', 'avg_at']\n"
      ],
      "metadata": {
        "id": "h3gq3fLMJMjr"
      },
      "execution_count": null,
      "outputs": []
    },
    {
      "cell_type": "code",
      "source": [
        "\n",
        "compustat2018To2022= compustat2018To2022.merge(avgATDF, on= 'tic', how= 'left')\n",
        "\n",
        "print(compustat2018To2022)"
      ],
      "metadata": {
        "colab": {
          "base_uri": "https://localhost:8080/"
        },
        "id": "uLlV_XWzJQW-",
        "outputId": "979c09f3-258e-45fd-8eac-37d93537a98a"
      },
      "execution_count": null,
      "outputs": [
        {
          "output_type": "stream",
          "name": "stdout",
          "text": [
            "         tic   datadate   fyear indfmt datafmt      cash         ca  \\\n",
            "0        AIR 2018-05-31  2017.0   INDL     STD    41.600    942.700   \n",
            "1        AIR 2019-05-31  2018.0   INDL     STD    41.100    952.500   \n",
            "2        AIR 2020-05-31  2019.0   INDL     STD   424.700   1438.700   \n",
            "3        AIR 2021-05-31  2020.0   INDL     STD    60.200    937.000   \n",
            "4        AIR 2022-05-31  2021.0   INDL     STD    58.900   1007.200   \n",
            "...      ...        ...     ...    ...     ...       ...        ...   \n",
            "24345   KARO 2021-02-28  2020.0   INDL     STD    65.057     87.432   \n",
            "24346   KARO 2022-02-28  2021.0   INDL     STD    47.427     72.275   \n",
            "24347  IVCGF 2020-12-31  2020.0   INDL     STD   558.000  12100.000   \n",
            "24348  DTRUY 2020-12-31  2020.0   INDL     STD  9012.671  30632.474   \n",
            "24349  DTRUY 2021-12-31  2021.0   INDL     STD  8358.207  31787.117   \n",
            "\n",
            "              cl         ta       dep  ...  delta_cash  delta_ca  delta_cl  \\\n",
            "0        333.300   1524.700    40.500  ...      31.300    54.200    -1.800   \n",
            "1        357.500   1517.200    42.800  ...      -0.500     9.800    24.200   \n",
            "2        383.100   2079.000    43.700  ...     383.600   486.200    25.600   \n",
            "3        336.800   1539.700    36.300  ...    -364.500  -501.700   -46.300   \n",
            "4        348.200   1573.900    33.100  ...      -1.300    70.200    11.400   \n",
            "...          ...        ...       ...  ...         ...       ...       ...   \n",
            "24345     94.504    192.079    26.276  ...      55.718    51.281    68.579   \n",
            "24346     40.451    200.247    32.235  ...     -17.630   -15.157   -54.053   \n",
            "24347  13594.000  18841.000   991.000  ...      90.000   530.000  1006.000   \n",
            "24348  25743.429  60256.041  2644.617  ...    2480.445 -1257.713   578.482   \n",
            "24349  19725.777  62325.449  2035.813  ...    -654.464  1154.643 -6017.652   \n",
            "\n",
            "       delta_std  delta_tp   accruals  accruals_subcomp_1  accruals_subcomp_2  \\\n",
            "0         -2.000   -12.300     -1.500              22.900             -12.500   \n",
            "1          0.000     0.000    -56.700              10.300             -24.200   \n",
            "2         13.700     0.000     19.600             102.600             -11.900   \n",
            "3         -2.200     0.700   -125.700            -137.200              44.800   \n",
            "4         -0.400    -0.700     28.100              71.500             -12.500   \n",
            "...          ...       ...        ...                 ...                 ...   \n",
            "24345      1.605     0.225   -101.122              -4.437             -66.749   \n",
            "24346      0.341     0.964     22.986               2.473              55.358   \n",
            "24347    644.000   -42.000  -2159.000             440.000            -404.000   \n",
            "24348    986.705   -26.135  -7921.827           -3738.158             382.088   \n",
            "24349  -7998.174   151.010  13638.110            1809.107           -1829.512   \n",
            "\n",
            "       accruals_subcomp_3     avg_at  \n",
            "0                 -40.500   1646.900  \n",
            "1                 -42.800   1646.900  \n",
            "2                 -43.700   1646.900  \n",
            "3                 -36.300   1646.900  \n",
            "4                 -33.100   1646.900  \n",
            "...                   ...        ...  \n",
            "24345             -26.276    169.959  \n",
            "24346             -32.235    169.959  \n",
            "24347            -991.000  18841.000  \n",
            "24348           -2644.617  61290.745  \n",
            "24349           -2035.813  61290.745  \n",
            "\n",
            "[24350 rows x 24 columns]\n"
          ]
        }
      ]
    },
    {
      "cell_type": "code",
      "source": [
        "\n",
        "#Calculate earnings component\n",
        "\n",
        "compustat2018To2022['earnings_comp']= compustat2018To2022['oiadp'] / compustat2018To2022['avg_at']\n",
        "\n",
        "#Calculate accruals component\n",
        "\n",
        "compustat2018To2022['accruals_comp'] = compustat2018To2022['accruals']/ compustat2018To2022['avg_at']\n",
        "\n",
        "#calculate cash flow component\n",
        "\n",
        "compustat2018To2022['cash_flows_comp'] = compustat2018To2022['earnings_comp']- compustat2018To2022['accruals_comp']\n",
        "\n",
        "#Standradize sub-components\n",
        "#shorthand for divide left by right and replace left value\n",
        "compustat2018To2022['accruals_subcomp_1'] /= compustat2018To2022['avg_at']\n",
        "\n",
        "compustat2018To2022['accruals_subcomp_2'] /= compustat2018To2022['avg_at']\n",
        "\n",
        "compustat2018To2022['accruals_subcomp_3'] /= compustat2018To2022['avg_at']\n",
        "\n",
        "#Drop infinite/null values\n",
        "\n",
        "compustat2018To2022.replace([np.inf, np.inf], np.nan, inplace=True)\n",
        "compustat2018To2022= compustat2018To2022.dropna()\n",
        "\n",
        "#Reindex\n",
        "\n",
        "compustat2018To2022= compustat2018To2022.reset_index()\n",
        "\n",
        "compustat2018To2022.drop(['index'], inplace= True, axis= 1)\n",
        "\n",
        "print(compustat2018To2022)"
      ],
      "metadata": {
        "colab": {
          "base_uri": "https://localhost:8080/"
        },
        "id": "nt76-qBrJWF9",
        "outputId": "9a3e4398-4564-4a03-9ad3-0b2e155488c2"
      },
      "execution_count": null,
      "outputs": [
        {
          "output_type": "stream",
          "name": "stdout",
          "text": [
            "         tic   datadate   fyear indfmt datafmt      cash         ca  \\\n",
            "0        AIR 2018-05-31  2017.0   INDL     STD    41.600    942.700   \n",
            "1        AIR 2019-05-31  2018.0   INDL     STD    41.100    952.500   \n",
            "2        AIR 2020-05-31  2019.0   INDL     STD   424.700   1438.700   \n",
            "3        AIR 2021-05-31  2020.0   INDL     STD    60.200    937.000   \n",
            "4        AIR 2022-05-31  2021.0   INDL     STD    58.900   1007.200   \n",
            "...      ...        ...     ...    ...     ...       ...        ...   \n",
            "24318   KARO 2021-02-28  2020.0   INDL     STD    65.057     87.432   \n",
            "24319   KARO 2022-02-28  2021.0   INDL     STD    47.427     72.275   \n",
            "24320  IVCGF 2020-12-31  2020.0   INDL     STD   558.000  12100.000   \n",
            "24321  DTRUY 2020-12-31  2020.0   INDL     STD  9012.671  30632.474   \n",
            "24322  DTRUY 2021-12-31  2021.0   INDL     STD  8358.207  31787.117   \n",
            "\n",
            "              cl         ta       dep  ...  delta_std  delta_tp   accruals  \\\n",
            "0        333.300   1524.700    40.500  ...     -2.000   -12.300     -1.500   \n",
            "1        357.500   1517.200    42.800  ...      0.000     0.000    -56.700   \n",
            "2        383.100   2079.000    43.700  ...     13.700     0.000     19.600   \n",
            "3        336.800   1539.700    36.300  ...     -2.200     0.700   -125.700   \n",
            "4        348.200   1573.900    33.100  ...     -0.400    -0.700     28.100   \n",
            "...          ...        ...       ...  ...        ...       ...        ...   \n",
            "24318     94.504    192.079    26.276  ...      1.605     0.225   -101.122   \n",
            "24319     40.451    200.247    32.235  ...      0.341     0.964     22.986   \n",
            "24320  13594.000  18841.000   991.000  ...    644.000   -42.000  -2159.000   \n",
            "24321  25743.429  60256.041  2644.617  ...    986.705   -26.135  -7921.827   \n",
            "24322  19725.777  62325.449  2035.813  ...  -7998.174   151.010  13638.110   \n",
            "\n",
            "       accruals_subcomp_1  accruals_subcomp_2  accruals_subcomp_3     avg_at  \\\n",
            "0                0.013905           -0.007590           -0.024592   1646.900   \n",
            "1                0.006254           -0.014694           -0.025988   1646.900   \n",
            "2                0.062299           -0.007226           -0.026535   1646.900   \n",
            "3               -0.083308            0.027203           -0.022041   1646.900   \n",
            "4                0.043415           -0.007590           -0.020098   1646.900   \n",
            "...                   ...                 ...                 ...        ...   \n",
            "24318           -0.026106           -0.392736           -0.154602    169.959   \n",
            "24319            0.014551            0.325714           -0.189663    169.959   \n",
            "24320            0.023353           -0.021443           -0.052598  18841.000   \n",
            "24321           -0.060991            0.006234           -0.043149  61290.745   \n",
            "24322            0.029517           -0.029850           -0.033216  61290.745   \n",
            "\n",
            "       earnings_comp  accruals_comp  cash_flows_comp  \n",
            "0           0.052219      -0.000911         0.053130  \n",
            "1           0.067217      -0.034428         0.101646  \n",
            "2           0.064606       0.011901         0.052705  \n",
            "3           0.039772      -0.076325         0.116097  \n",
            "4           0.070557       0.017062         0.053494  \n",
            "...              ...            ...              ...  \n",
            "24318       0.312181      -0.594979         0.907160  \n",
            "24319       0.305485       0.135244         0.170241  \n",
            "24320       0.003556      -0.114591         0.118147  \n",
            "24321       0.002517      -0.129250         0.131767  \n",
            "24322       0.030599       0.222515        -0.191916  \n",
            "\n",
            "[24323 rows x 27 columns]\n"
          ]
        }
      ]
    },
    {
      "cell_type": "code",
      "source": [
        "compustat2018To2022['date']= compustat2018To2022['datadate']\n",
        "print(compustat2018To2022)"
      ],
      "metadata": {
        "colab": {
          "base_uri": "https://localhost:8080/"
        },
        "id": "RwKZcnpWLBqD",
        "outputId": "d6a7cc2d-6b2c-4a91-c157-b2367aced614"
      },
      "execution_count": null,
      "outputs": [
        {
          "output_type": "stream",
          "name": "stdout",
          "text": [
            "         tic   datadate   fyear indfmt datafmt      cash         ca  \\\n",
            "0        AIR 2018-05-31  2017.0   INDL     STD    41.600    942.700   \n",
            "1        AIR 2019-05-31  2018.0   INDL     STD    41.100    952.500   \n",
            "2        AIR 2020-05-31  2019.0   INDL     STD   424.700   1438.700   \n",
            "3        AIR 2021-05-31  2020.0   INDL     STD    60.200    937.000   \n",
            "4        AIR 2022-05-31  2021.0   INDL     STD    58.900   1007.200   \n",
            "...      ...        ...     ...    ...     ...       ...        ...   \n",
            "24318   KARO 2021-02-28  2020.0   INDL     STD    65.057     87.432   \n",
            "24319   KARO 2022-02-28  2021.0   INDL     STD    47.427     72.275   \n",
            "24320  IVCGF 2020-12-31  2020.0   INDL     STD   558.000  12100.000   \n",
            "24321  DTRUY 2020-12-31  2020.0   INDL     STD  9012.671  30632.474   \n",
            "24322  DTRUY 2021-12-31  2021.0   INDL     STD  8358.207  31787.117   \n",
            "\n",
            "              cl         ta       dep  ...  delta_tp   accruals  \\\n",
            "0        333.300   1524.700    40.500  ...   -12.300     -1.500   \n",
            "1        357.500   1517.200    42.800  ...     0.000    -56.700   \n",
            "2        383.100   2079.000    43.700  ...     0.000     19.600   \n",
            "3        336.800   1539.700    36.300  ...     0.700   -125.700   \n",
            "4        348.200   1573.900    33.100  ...    -0.700     28.100   \n",
            "...          ...        ...       ...  ...       ...        ...   \n",
            "24318     94.504    192.079    26.276  ...     0.225   -101.122   \n",
            "24319     40.451    200.247    32.235  ...     0.964     22.986   \n",
            "24320  13594.000  18841.000   991.000  ...   -42.000  -2159.000   \n",
            "24321  25743.429  60256.041  2644.617  ...   -26.135  -7921.827   \n",
            "24322  19725.777  62325.449  2035.813  ...   151.010  13638.110   \n",
            "\n",
            "       accruals_subcomp_1  accruals_subcomp_2  accruals_subcomp_3     avg_at  \\\n",
            "0                0.013905           -0.007590           -0.024592   1646.900   \n",
            "1                0.006254           -0.014694           -0.025988   1646.900   \n",
            "2                0.062299           -0.007226           -0.026535   1646.900   \n",
            "3               -0.083308            0.027203           -0.022041   1646.900   \n",
            "4                0.043415           -0.007590           -0.020098   1646.900   \n",
            "...                   ...                 ...                 ...        ...   \n",
            "24318           -0.026106           -0.392736           -0.154602    169.959   \n",
            "24319            0.014551            0.325714           -0.189663    169.959   \n",
            "24320            0.023353           -0.021443           -0.052598  18841.000   \n",
            "24321           -0.060991            0.006234           -0.043149  61290.745   \n",
            "24322            0.029517           -0.029850           -0.033216  61290.745   \n",
            "\n",
            "       earnings_comp  accruals_comp  cash_flows_comp       date  \n",
            "0           0.052219      -0.000911         0.053130 2018-05-31  \n",
            "1           0.067217      -0.034428         0.101646 2019-05-31  \n",
            "2           0.064606       0.011901         0.052705 2020-05-31  \n",
            "3           0.039772      -0.076325         0.116097 2021-05-31  \n",
            "4           0.070557       0.017062         0.053494 2022-05-31  \n",
            "...              ...            ...              ...        ...  \n",
            "24318       0.312181      -0.594979         0.907160 2021-02-28  \n",
            "24319       0.305485       0.135244         0.170241 2022-02-28  \n",
            "24320       0.003556      -0.114591         0.118147 2020-12-31  \n",
            "24321       0.002517      -0.129250         0.131767 2020-12-31  \n",
            "24322       0.030599       0.222515        -0.191916 2021-12-31  \n",
            "\n",
            "[24323 rows x 28 columns]\n"
          ]
        }
      ]
    },
    {
      "cell_type": "code",
      "source": [
        "#6\n",
        "#left join\n",
        "mainDF= crsp2018To2022.merge(compustat2018To2022, how='left', on= ['tic', 'date'])\n",
        "print(mainDF)"
      ],
      "metadata": {
        "id": "fdsfiiKIINTz",
        "colab": {
          "base_uri": "https://localhost:8080/"
        },
        "outputId": "5dc2a392-0d93-4f87-b126-d3043f3d65b4"
      },
      "execution_count": null,
      "outputs": [
        {
          "output_type": "stream",
          "name": "stdout",
          "text": [
            "         tic       date  shrcd  exchcd  siccd     shrout      altprc  \\\n",
            "0       JJSF 2018-01-31   11.0     3.0   20.0    18678.0   138.44000   \n",
            "1       JJSF 2018-02-28   11.0     3.0   20.0    18678.0   134.33000   \n",
            "2       JJSF 2018-03-29   11.0     3.0   20.0    18697.0   136.56000   \n",
            "3       JJSF 2018-04-30   11.0     3.0   20.0    18702.0   137.41000   \n",
            "4       JJSF 2018-05-31   11.0     3.0   20.0    18702.0   141.62000   \n",
            "...      ...        ...    ...     ...    ...        ...         ...   \n",
            "193909  TSLA 2021-11-30   11.0     3.0   99.0  1004265.0  1144.76001   \n",
            "193910  TSLA 2021-12-31   11.0     3.0   99.0  1033534.0  1056.78003   \n",
            "193911  TSLA 2022-01-31   11.0     3.0   99.0  1033534.0   936.71997   \n",
            "193912  TSLA 2022-02-28   11.0     3.0   99.0  1033534.0   870.42999   \n",
            "193913  TSLA 2022-03-31   11.0     3.0   99.0  1033534.0  1077.59998   \n",
            "\n",
            "             ret   ret_adj   datadate  ...  delta_std delta_tp accruals  \\\n",
            "0      -0.088191 -0.088191        NaT  ...        NaN      NaN      NaN   \n",
            "1      -0.029688 -0.029688        NaT  ...        NaN      NaN      NaN   \n",
            "2       0.019951  0.019951        NaT  ...        NaN      NaN      NaN   \n",
            "3       0.006224  0.006224        NaT  ...        NaN      NaN      NaN   \n",
            "4       0.030638  0.030638        NaT  ...        NaN      NaN      NaN   \n",
            "...          ...       ...        ...  ...        ...      ...      ...   \n",
            "193909  0.027612  0.027612        NaT  ...        NaN      NaN      NaN   \n",
            "193910 -0.076855 -0.076855 2021-12-31  ...     -502.0    345.0  -6258.0   \n",
            "193911 -0.113609 -0.113609        NaT  ...        NaN      NaN      NaN   \n",
            "193912 -0.070768 -0.070768        NaT  ...        NaN      NaN      NaN   \n",
            "193913  0.238009 -1.000000        NaT  ...        NaN      NaN      NaN   \n",
            "\n",
            "        accruals_subcomp_1  accruals_subcomp_2  accruals_subcomp_3  \\\n",
            "0                      NaN                 NaN                 NaN   \n",
            "1                      NaN                 NaN                 NaN   \n",
            "2                      NaN                 NaN                 NaN   \n",
            "3                      NaN                 NaN                 NaN   \n",
            "4                      NaN                 NaN                 NaN   \n",
            "...                    ...                 ...                 ...   \n",
            "193909                 NaN                 NaN                 NaN   \n",
            "193910            0.043807           -0.125926           -0.065296   \n",
            "193911                 NaN                 NaN                 NaN   \n",
            "193912                 NaN                 NaN                 NaN   \n",
            "193913                 NaN                 NaN                 NaN   \n",
            "\n",
            "            avg_at  earnings_comp  accruals_comp  cash_flows_comp  \n",
            "0              NaN            NaN            NaN              NaN  \n",
            "1              NaN            NaN            NaN              NaN  \n",
            "2              NaN            NaN            NaN              NaN  \n",
            "3              NaN            NaN            NaN              NaN  \n",
            "4              NaN            NaN            NaN              NaN  \n",
            "...            ...            ...            ...              ...  \n",
            "193909         NaN            NaN            NaN              NaN  \n",
            "193910  44581.9035       0.145709      -0.140371          0.28608  \n",
            "193911         NaN            NaN            NaN              NaN  \n",
            "193912         NaN            NaN            NaN              NaN  \n",
            "193913         NaN            NaN            NaN              NaN  \n",
            "\n",
            "[193914 rows x 35 columns]\n"
          ]
        }
      ]
    },
    {
      "cell_type": "markdown",
      "source": [
        "FFDF cleaning"
      ],
      "metadata": {
        "id": "n-BLXwny2ZTJ"
      }
    },
    {
      "cell_type": "code",
      "source": [
        "\n",
        "file = \"/content/gdrive/MyDrive/Exeter google drive /internships jobs/FIMA '23/Sloane Accruals/F-F_Research_Data_5_Factors.csv\"\n",
        "ffDF= pd.read_csv(file)\n",
        "\n",
        "print(ffDF)\n",
        "print(ffDF.columns)"
      ],
      "metadata": {
        "colab": {
          "base_uri": "https://localhost:8080/"
        },
        "id": "8H6wDtW_2bL3",
        "outputId": "d1f7185f-7dc5-4293-b3b0-d7158791af20"
      },
      "execution_count": null,
      "outputs": [
        {
          "output_type": "stream",
          "name": "stdout",
          "text": [
            "       Date  Mkt_RF   SMB    HML   RMW   CMA    RF\n",
            "0    196307   -0.39 -0.44  -0.89  0.68 -1.23  0.27\n",
            "1    196308    5.07 -0.75   1.68  0.36 -0.34  0.25\n",
            "2    196309   -1.57 -0.55   0.08 -0.71  0.29  0.27\n",
            "3    196310    2.53 -1.37  -0.14  2.80 -2.02  0.29\n",
            "4    196311   -0.85 -0.89   1.81 -0.51  2.31  0.27\n",
            "..      ...     ...   ...    ...   ...   ...   ...\n",
            "702  202201   -6.25 -3.95  12.74  0.73  7.73  0.00\n",
            "703  202202   -2.29  2.90   3.09 -2.12  2.99  0.00\n",
            "704  202203    3.06 -2.14  -1.82 -1.32  3.24  0.00\n",
            "705  202204   -9.45 -0.38   6.16  3.51  5.87  0.00\n",
            "706  202205   -0.34  0.02   8.38  1.61  3.82  0.03\n",
            "\n",
            "[707 rows x 7 columns]\n",
            "Index(['Date', 'Mkt_RF', 'SMB', 'HML', 'RMW', 'CMA', 'RF'], dtype='object')\n"
          ]
        }
      ]
    },
    {
      "cell_type": "code",
      "source": [
        "\n",
        "ffDF = ffDF[ffDF['Date'] >= 201801]\n",
        "print(ffDF)"
      ],
      "metadata": {
        "colab": {
          "base_uri": "https://localhost:8080/"
        },
        "id": "Z6a70WewxgDx",
        "outputId": "75393f7f-94b4-4268-b876-1956c985511c"
      },
      "execution_count": null,
      "outputs": [
        {
          "output_type": "stream",
          "name": "stdout",
          "text": [
            "       Date  Mkt_RF   SMB    HML   RMW   CMA    RF\n",
            "654  201801    5.58 -3.25  -1.36 -0.72 -1.05  0.11\n",
            "655  201802   -3.65  0.33  -1.03  0.56 -2.40  0.11\n",
            "656  201803   -2.35  3.59  -0.23 -0.49  0.02  0.12\n",
            "657  201804    0.29  0.90   0.48 -2.41  1.28  0.14\n",
            "658  201805    2.65  4.78  -3.13 -2.04 -1.43  0.14\n",
            "659  201806    0.48  0.80  -2.33  0.82  0.23  0.14\n",
            "660  201807    3.19 -1.94   0.45  1.52  0.37  0.16\n",
            "661  201808    3.44  0.63  -3.98 -0.30 -2.66  0.16\n",
            "662  201809    0.06 -2.49  -1.70  0.67  1.30  0.15\n",
            "663  201810   -7.68 -4.46   3.43  0.98  3.60  0.19\n",
            "664  201811    1.69 -0.77   0.26 -0.65  0.36  0.18\n",
            "665  201812   -9.55 -2.90  -1.90 -0.04  0.22  0.19\n",
            "666  201901    8.41  3.01  -0.44 -0.77 -1.51  0.21\n",
            "667  201902    3.40  1.72  -2.68  0.21 -1.62  0.18\n",
            "668  201903    1.10 -3.47  -4.05  0.81 -0.97  0.19\n",
            "669  201904    3.97 -1.14   2.17  1.64 -2.20  0.21\n",
            "670  201905   -6.94 -1.58  -2.37 -0.51  1.75  0.21\n",
            "671  201906    6.93  0.36  -0.71  0.86 -0.43  0.18\n",
            "672  201907    1.19 -1.87   0.57 -0.04  0.32  0.19\n",
            "673  201908   -2.58 -3.22  -4.89  0.55 -0.71  0.16\n",
            "674  201909    1.43  0.30   6.88  1.82  3.38  0.18\n",
            "675  201910    2.07  0.22  -1.91  0.48 -1.02  0.15\n",
            "676  201911    3.87  0.49  -2.09 -1.64 -1.20  0.12\n",
            "677  201912    2.77  0.95   1.80 -0.01  1.24  0.14\n",
            "678  202001   -0.10 -4.40  -6.17 -1.16 -2.34  0.13\n",
            "679  202002   -8.13 -0.01  -3.75 -1.45 -2.52  0.12\n",
            "680  202003  -13.38 -8.36 -13.92 -1.49  1.21  0.12\n",
            "681  202004   13.65  2.66  -1.30  2.64 -0.94  0.00\n",
            "682  202005    5.58  2.02  -4.92  0.92 -3.21  0.01\n",
            "683  202006    2.46  1.94  -2.12  0.11  0.51  0.01\n",
            "684  202007    5.77 -3.17  -1.53  0.36  0.90  0.01\n",
            "685  202008    7.63 -0.92  -2.95  4.36 -1.35  0.01\n",
            "686  202009   -3.63  0.01  -2.58 -1.38 -1.80  0.01\n",
            "687  202010   -2.10  4.66   4.14 -0.93 -0.77  0.01\n",
            "688  202011   12.47  6.99   2.10 -2.11  1.36  0.01\n",
            "689  202012    4.63  4.73  -1.41 -1.97 -0.07  0.01\n",
            "690  202101   -0.03  6.77   3.00 -3.62  4.78  0.00\n",
            "691  202102    2.78  4.53   7.20  0.45 -1.87  0.00\n",
            "692  202103    3.08 -0.93   7.41  6.35  3.47  0.00\n",
            "693  202104    4.93 -3.10  -0.95  2.30 -2.81  0.00\n",
            "694  202105    0.29  1.19   7.04  2.34  3.09  0.00\n",
            "695  202106    2.75 -0.28  -7.82 -2.14 -1.04  0.00\n",
            "696  202107    1.27 -4.55  -1.74  5.37 -0.54  0.00\n",
            "697  202108    2.91 -0.78  -0.15 -0.26 -1.66  0.00\n",
            "698  202109   -4.37  1.21   5.06 -1.94  2.02  0.00\n",
            "699  202110    6.65 -2.71  -0.48  1.74 -1.51  0.00\n",
            "700  202111   -1.55 -1.73  -0.42  7.38  1.63  0.00\n",
            "701  202112    3.10 -0.69   3.22  4.75  4.36  0.01\n",
            "702  202201   -6.25 -3.95  12.74  0.73  7.73  0.00\n",
            "703  202202   -2.29  2.90   3.09 -2.12  2.99  0.00\n",
            "704  202203    3.06 -2.14  -1.82 -1.32  3.24  0.00\n",
            "705  202204   -9.45 -0.38   6.16  3.51  5.87  0.00\n",
            "706  202205   -0.34  0.02   8.38  1.61  3.82  0.03\n"
          ]
        }
      ]
    },
    {
      "cell_type": "code",
      "source": [
        "\n",
        "#Change column names\n",
        "\n",
        "ffDF.columns = ['date', 'rm_minus_rf', 'smb', 'hml', 'rmw', 'cma', 'rf']\n",
        "print(ffDF)"
      ],
      "metadata": {
        "colab": {
          "base_uri": "https://localhost:8080/"
        },
        "id": "1qaP7xErx2JP",
        "outputId": "28d219ce-89db-4522-db80-779c4d9a3fc0"
      },
      "execution_count": null,
      "outputs": [
        {
          "output_type": "stream",
          "name": "stdout",
          "text": [
            "       date  rm_minus_rf   smb    hml   rmw   cma    rf\n",
            "654  201801         5.58 -3.25  -1.36 -0.72 -1.05  0.11\n",
            "655  201802        -3.65  0.33  -1.03  0.56 -2.40  0.11\n",
            "656  201803        -2.35  3.59  -0.23 -0.49  0.02  0.12\n",
            "657  201804         0.29  0.90   0.48 -2.41  1.28  0.14\n",
            "658  201805         2.65  4.78  -3.13 -2.04 -1.43  0.14\n",
            "659  201806         0.48  0.80  -2.33  0.82  0.23  0.14\n",
            "660  201807         3.19 -1.94   0.45  1.52  0.37  0.16\n",
            "661  201808         3.44  0.63  -3.98 -0.30 -2.66  0.16\n",
            "662  201809         0.06 -2.49  -1.70  0.67  1.30  0.15\n",
            "663  201810        -7.68 -4.46   3.43  0.98  3.60  0.19\n",
            "664  201811         1.69 -0.77   0.26 -0.65  0.36  0.18\n",
            "665  201812        -9.55 -2.90  -1.90 -0.04  0.22  0.19\n",
            "666  201901         8.41  3.01  -0.44 -0.77 -1.51  0.21\n",
            "667  201902         3.40  1.72  -2.68  0.21 -1.62  0.18\n",
            "668  201903         1.10 -3.47  -4.05  0.81 -0.97  0.19\n",
            "669  201904         3.97 -1.14   2.17  1.64 -2.20  0.21\n",
            "670  201905        -6.94 -1.58  -2.37 -0.51  1.75  0.21\n",
            "671  201906         6.93  0.36  -0.71  0.86 -0.43  0.18\n",
            "672  201907         1.19 -1.87   0.57 -0.04  0.32  0.19\n",
            "673  201908        -2.58 -3.22  -4.89  0.55 -0.71  0.16\n",
            "674  201909         1.43  0.30   6.88  1.82  3.38  0.18\n",
            "675  201910         2.07  0.22  -1.91  0.48 -1.02  0.15\n",
            "676  201911         3.87  0.49  -2.09 -1.64 -1.20  0.12\n",
            "677  201912         2.77  0.95   1.80 -0.01  1.24  0.14\n",
            "678  202001        -0.10 -4.40  -6.17 -1.16 -2.34  0.13\n",
            "679  202002        -8.13 -0.01  -3.75 -1.45 -2.52  0.12\n",
            "680  202003       -13.38 -8.36 -13.92 -1.49  1.21  0.12\n",
            "681  202004        13.65  2.66  -1.30  2.64 -0.94  0.00\n",
            "682  202005         5.58  2.02  -4.92  0.92 -3.21  0.01\n",
            "683  202006         2.46  1.94  -2.12  0.11  0.51  0.01\n",
            "684  202007         5.77 -3.17  -1.53  0.36  0.90  0.01\n",
            "685  202008         7.63 -0.92  -2.95  4.36 -1.35  0.01\n",
            "686  202009        -3.63  0.01  -2.58 -1.38 -1.80  0.01\n",
            "687  202010        -2.10  4.66   4.14 -0.93 -0.77  0.01\n",
            "688  202011        12.47  6.99   2.10 -2.11  1.36  0.01\n",
            "689  202012         4.63  4.73  -1.41 -1.97 -0.07  0.01\n",
            "690  202101        -0.03  6.77   3.00 -3.62  4.78  0.00\n",
            "691  202102         2.78  4.53   7.20  0.45 -1.87  0.00\n",
            "692  202103         3.08 -0.93   7.41  6.35  3.47  0.00\n",
            "693  202104         4.93 -3.10  -0.95  2.30 -2.81  0.00\n",
            "694  202105         0.29  1.19   7.04  2.34  3.09  0.00\n",
            "695  202106         2.75 -0.28  -7.82 -2.14 -1.04  0.00\n",
            "696  202107         1.27 -4.55  -1.74  5.37 -0.54  0.00\n",
            "697  202108         2.91 -0.78  -0.15 -0.26 -1.66  0.00\n",
            "698  202109        -4.37  1.21   5.06 -1.94  2.02  0.00\n",
            "699  202110         6.65 -2.71  -0.48  1.74 -1.51  0.00\n",
            "700  202111        -1.55 -1.73  -0.42  7.38  1.63  0.00\n",
            "701  202112         3.10 -0.69   3.22  4.75  4.36  0.01\n",
            "702  202201        -6.25 -3.95  12.74  0.73  7.73  0.00\n",
            "703  202202        -2.29  2.90   3.09 -2.12  2.99  0.00\n",
            "704  202203         3.06 -2.14  -1.82 -1.32  3.24  0.00\n",
            "705  202204        -9.45 -0.38   6.16  3.51  5.87  0.00\n",
            "706  202205        -0.34  0.02   8.38  1.61  3.82  0.03\n"
          ]
        }
      ]
    },
    {
      "cell_type": "code",
      "source": [
        "### Clean FF DataFrame ###\n",
        "\n",
        "#Optimize in chat gpt\n",
        "#YASSSS this works too!!\n",
        "\n",
        "\n",
        "ffDF['year'] = \"\"\n",
        "ffDF['month'] = \"\"\n",
        "ffDF['year']= ffDF['date'].apply(lambda x: str(x)[0:4])\n",
        "ffDF['month']= ffDF['date'].apply(lambda x: str(x)[-2]+ str(x)[-1])\n",
        "\n",
        "print(ffDF)\n"
      ],
      "metadata": {
        "id": "m9-LOWXvLi_Q",
        "colab": {
          "base_uri": "https://localhost:8080/"
        },
        "outputId": "fb3b877f-32c2-4601-9c23-f46a1a7dcba6"
      },
      "execution_count": null,
      "outputs": [
        {
          "output_type": "stream",
          "name": "stdout",
          "text": [
            "       date  rm_minus_rf   smb    hml   rmw   cma    rf  year month\n",
            "654  201801         5.58 -3.25  -1.36 -0.72 -1.05  0.11  2018    01\n",
            "655  201802        -3.65  0.33  -1.03  0.56 -2.40  0.11  2018    02\n",
            "656  201803        -2.35  3.59  -0.23 -0.49  0.02  0.12  2018    03\n",
            "657  201804         0.29  0.90   0.48 -2.41  1.28  0.14  2018    04\n",
            "658  201805         2.65  4.78  -3.13 -2.04 -1.43  0.14  2018    05\n",
            "659  201806         0.48  0.80  -2.33  0.82  0.23  0.14  2018    06\n",
            "660  201807         3.19 -1.94   0.45  1.52  0.37  0.16  2018    07\n",
            "661  201808         3.44  0.63  -3.98 -0.30 -2.66  0.16  2018    08\n",
            "662  201809         0.06 -2.49  -1.70  0.67  1.30  0.15  2018    09\n",
            "663  201810        -7.68 -4.46   3.43  0.98  3.60  0.19  2018    10\n",
            "664  201811         1.69 -0.77   0.26 -0.65  0.36  0.18  2018    11\n",
            "665  201812        -9.55 -2.90  -1.90 -0.04  0.22  0.19  2018    12\n",
            "666  201901         8.41  3.01  -0.44 -0.77 -1.51  0.21  2019    01\n",
            "667  201902         3.40  1.72  -2.68  0.21 -1.62  0.18  2019    02\n",
            "668  201903         1.10 -3.47  -4.05  0.81 -0.97  0.19  2019    03\n",
            "669  201904         3.97 -1.14   2.17  1.64 -2.20  0.21  2019    04\n",
            "670  201905        -6.94 -1.58  -2.37 -0.51  1.75  0.21  2019    05\n",
            "671  201906         6.93  0.36  -0.71  0.86 -0.43  0.18  2019    06\n",
            "672  201907         1.19 -1.87   0.57 -0.04  0.32  0.19  2019    07\n",
            "673  201908        -2.58 -3.22  -4.89  0.55 -0.71  0.16  2019    08\n",
            "674  201909         1.43  0.30   6.88  1.82  3.38  0.18  2019    09\n",
            "675  201910         2.07  0.22  -1.91  0.48 -1.02  0.15  2019    10\n",
            "676  201911         3.87  0.49  -2.09 -1.64 -1.20  0.12  2019    11\n",
            "677  201912         2.77  0.95   1.80 -0.01  1.24  0.14  2019    12\n",
            "678  202001        -0.10 -4.40  -6.17 -1.16 -2.34  0.13  2020    01\n",
            "679  202002        -8.13 -0.01  -3.75 -1.45 -2.52  0.12  2020    02\n",
            "680  202003       -13.38 -8.36 -13.92 -1.49  1.21  0.12  2020    03\n",
            "681  202004        13.65  2.66  -1.30  2.64 -0.94  0.00  2020    04\n",
            "682  202005         5.58  2.02  -4.92  0.92 -3.21  0.01  2020    05\n",
            "683  202006         2.46  1.94  -2.12  0.11  0.51  0.01  2020    06\n",
            "684  202007         5.77 -3.17  -1.53  0.36  0.90  0.01  2020    07\n",
            "685  202008         7.63 -0.92  -2.95  4.36 -1.35  0.01  2020    08\n",
            "686  202009        -3.63  0.01  -2.58 -1.38 -1.80  0.01  2020    09\n",
            "687  202010        -2.10  4.66   4.14 -0.93 -0.77  0.01  2020    10\n",
            "688  202011        12.47  6.99   2.10 -2.11  1.36  0.01  2020    11\n",
            "689  202012         4.63  4.73  -1.41 -1.97 -0.07  0.01  2020    12\n",
            "690  202101        -0.03  6.77   3.00 -3.62  4.78  0.00  2021    01\n",
            "691  202102         2.78  4.53   7.20  0.45 -1.87  0.00  2021    02\n",
            "692  202103         3.08 -0.93   7.41  6.35  3.47  0.00  2021    03\n",
            "693  202104         4.93 -3.10  -0.95  2.30 -2.81  0.00  2021    04\n",
            "694  202105         0.29  1.19   7.04  2.34  3.09  0.00  2021    05\n",
            "695  202106         2.75 -0.28  -7.82 -2.14 -1.04  0.00  2021    06\n",
            "696  202107         1.27 -4.55  -1.74  5.37 -0.54  0.00  2021    07\n",
            "697  202108         2.91 -0.78  -0.15 -0.26 -1.66  0.00  2021    08\n",
            "698  202109        -4.37  1.21   5.06 -1.94  2.02  0.00  2021    09\n",
            "699  202110         6.65 -2.71  -0.48  1.74 -1.51  0.00  2021    10\n",
            "700  202111        -1.55 -1.73  -0.42  7.38  1.63  0.00  2021    11\n",
            "701  202112         3.10 -0.69   3.22  4.75  4.36  0.01  2021    12\n",
            "702  202201        -6.25 -3.95  12.74  0.73  7.73  0.00  2022    01\n",
            "703  202202        -2.29  2.90   3.09 -2.12  2.99  0.00  2022    02\n",
            "704  202203         3.06 -2.14  -1.82 -1.32  3.24  0.00  2022    03\n",
            "705  202204        -9.45 -0.38   6.16  3.51  5.87  0.00  2022    04\n",
            "706  202205        -0.34  0.02   8.38  1.61  3.82  0.03  2022    05\n"
          ]
        }
      ]
    },
    {
      "cell_type": "code",
      "source": [
        "\n",
        "#hange values to decimal\n",
        "\n",
        "ffDF['rm_minus_rf'] /= 100\n",
        "\n",
        "ffDF['smb']/= 100\n",
        "\n",
        "ffDF['hml']/= 100\n",
        "\n",
        "ffDF['rmw'] /= 100\n",
        "\n",
        "ffDF['cma'] /= 100\n",
        "\n",
        "ffDF['rf'] /= 100\n",
        "\n",
        "print(ffDF)"
      ],
      "metadata": {
        "colab": {
          "base_uri": "https://localhost:8080/"
        },
        "id": "lESJjNPygpXD",
        "outputId": "4a3c302d-05af-4eb7-bcb5-b8fed250af23"
      },
      "execution_count": null,
      "outputs": [
        {
          "output_type": "stream",
          "name": "stdout",
          "text": [
            "       date  rm_minus_rf     smb     hml     rmw     cma      rf  year month\n",
            "654  201801       0.0558 -0.0325 -0.0136 -0.0072 -0.0105  0.0011  2018    01\n",
            "655  201802      -0.0365  0.0033 -0.0103  0.0056 -0.0240  0.0011  2018    02\n",
            "656  201803      -0.0235  0.0359 -0.0023 -0.0049  0.0002  0.0012  2018    03\n",
            "657  201804       0.0029  0.0090  0.0048 -0.0241  0.0128  0.0014  2018    04\n",
            "658  201805       0.0265  0.0478 -0.0313 -0.0204 -0.0143  0.0014  2018    05\n",
            "659  201806       0.0048  0.0080 -0.0233  0.0082  0.0023  0.0014  2018    06\n",
            "660  201807       0.0319 -0.0194  0.0045  0.0152  0.0037  0.0016  2018    07\n",
            "661  201808       0.0344  0.0063 -0.0398 -0.0030 -0.0266  0.0016  2018    08\n",
            "662  201809       0.0006 -0.0249 -0.0170  0.0067  0.0130  0.0015  2018    09\n",
            "663  201810      -0.0768 -0.0446  0.0343  0.0098  0.0360  0.0019  2018    10\n",
            "664  201811       0.0169 -0.0077  0.0026 -0.0065  0.0036  0.0018  2018    11\n",
            "665  201812      -0.0955 -0.0290 -0.0190 -0.0004  0.0022  0.0019  2018    12\n",
            "666  201901       0.0841  0.0301 -0.0044 -0.0077 -0.0151  0.0021  2019    01\n",
            "667  201902       0.0340  0.0172 -0.0268  0.0021 -0.0162  0.0018  2019    02\n",
            "668  201903       0.0110 -0.0347 -0.0405  0.0081 -0.0097  0.0019  2019    03\n",
            "669  201904       0.0397 -0.0114  0.0217  0.0164 -0.0220  0.0021  2019    04\n",
            "670  201905      -0.0694 -0.0158 -0.0237 -0.0051  0.0175  0.0021  2019    05\n",
            "671  201906       0.0693  0.0036 -0.0071  0.0086 -0.0043  0.0018  2019    06\n",
            "672  201907       0.0119 -0.0187  0.0057 -0.0004  0.0032  0.0019  2019    07\n",
            "673  201908      -0.0258 -0.0322 -0.0489  0.0055 -0.0071  0.0016  2019    08\n",
            "674  201909       0.0143  0.0030  0.0688  0.0182  0.0338  0.0018  2019    09\n",
            "675  201910       0.0207  0.0022 -0.0191  0.0048 -0.0102  0.0015  2019    10\n",
            "676  201911       0.0387  0.0049 -0.0209 -0.0164 -0.0120  0.0012  2019    11\n",
            "677  201912       0.0277  0.0095  0.0180 -0.0001  0.0124  0.0014  2019    12\n",
            "678  202001      -0.0010 -0.0440 -0.0617 -0.0116 -0.0234  0.0013  2020    01\n",
            "679  202002      -0.0813 -0.0001 -0.0375 -0.0145 -0.0252  0.0012  2020    02\n",
            "680  202003      -0.1338 -0.0836 -0.1392 -0.0149  0.0121  0.0012  2020    03\n",
            "681  202004       0.1365  0.0266 -0.0130  0.0264 -0.0094  0.0000  2020    04\n",
            "682  202005       0.0558  0.0202 -0.0492  0.0092 -0.0321  0.0001  2020    05\n",
            "683  202006       0.0246  0.0194 -0.0212  0.0011  0.0051  0.0001  2020    06\n",
            "684  202007       0.0577 -0.0317 -0.0153  0.0036  0.0090  0.0001  2020    07\n",
            "685  202008       0.0763 -0.0092 -0.0295  0.0436 -0.0135  0.0001  2020    08\n",
            "686  202009      -0.0363  0.0001 -0.0258 -0.0138 -0.0180  0.0001  2020    09\n",
            "687  202010      -0.0210  0.0466  0.0414 -0.0093 -0.0077  0.0001  2020    10\n",
            "688  202011       0.1247  0.0699  0.0210 -0.0211  0.0136  0.0001  2020    11\n",
            "689  202012       0.0463  0.0473 -0.0141 -0.0197 -0.0007  0.0001  2020    12\n",
            "690  202101      -0.0003  0.0677  0.0300 -0.0362  0.0478  0.0000  2021    01\n",
            "691  202102       0.0278  0.0453  0.0720  0.0045 -0.0187  0.0000  2021    02\n",
            "692  202103       0.0308 -0.0093  0.0741  0.0635  0.0347  0.0000  2021    03\n",
            "693  202104       0.0493 -0.0310 -0.0095  0.0230 -0.0281  0.0000  2021    04\n",
            "694  202105       0.0029  0.0119  0.0704  0.0234  0.0309  0.0000  2021    05\n",
            "695  202106       0.0275 -0.0028 -0.0782 -0.0214 -0.0104  0.0000  2021    06\n",
            "696  202107       0.0127 -0.0455 -0.0174  0.0537 -0.0054  0.0000  2021    07\n",
            "697  202108       0.0291 -0.0078 -0.0015 -0.0026 -0.0166  0.0000  2021    08\n",
            "698  202109      -0.0437  0.0121  0.0506 -0.0194  0.0202  0.0000  2021    09\n",
            "699  202110       0.0665 -0.0271 -0.0048  0.0174 -0.0151  0.0000  2021    10\n",
            "700  202111      -0.0155 -0.0173 -0.0042  0.0738  0.0163  0.0000  2021    11\n",
            "701  202112       0.0310 -0.0069  0.0322  0.0475  0.0436  0.0001  2021    12\n",
            "702  202201      -0.0625 -0.0395  0.1274  0.0073  0.0773  0.0000  2022    01\n",
            "703  202202      -0.0229  0.0290  0.0309 -0.0212  0.0299  0.0000  2022    02\n",
            "704  202203       0.0306 -0.0214 -0.0182 -0.0132  0.0324  0.0000  2022    03\n",
            "705  202204      -0.0945 -0.0038  0.0616  0.0351  0.0587  0.0000  2022    04\n",
            "706  202205      -0.0034  0.0002  0.0838  0.0161  0.0382  0.0003  2022    05\n"
          ]
        }
      ]
    },
    {
      "cell_type": "code",
      "source": [
        "ffDFcheckpoint= ffDF"
      ],
      "metadata": {
        "id": "KakuqH4dyMH7"
      },
      "execution_count": null,
      "outputs": []
    },
    {
      "cell_type": "code",
      "source": [
        "ffDF= ffDFcheckpoint"
      ],
      "metadata": {
        "id": "JXUti1UKyPz0"
      },
      "execution_count": null,
      "outputs": []
    },
    {
      "cell_type": "code",
      "source": [
        "\n",
        "ffDF['date'] = pd.to_datetime(ffDF['date'], format= '%Y%m')\n",
        "print(ffDF)"
      ],
      "metadata": {
        "colab": {
          "base_uri": "https://localhost:8080/"
        },
        "id": "W-koEibVhGYg",
        "outputId": "bba5ba0b-dc02-406d-cb4e-3deee4d06d13"
      },
      "execution_count": null,
      "outputs": [
        {
          "output_type": "stream",
          "name": "stdout",
          "text": [
            "          date  rm_minus_rf     smb     hml     rmw     cma      rf  year  \\\n",
            "654 2018-01-01       0.0558 -0.0325 -0.0136 -0.0072 -0.0105  0.0011  2018   \n",
            "655 2018-02-01      -0.0365  0.0033 -0.0103  0.0056 -0.0240  0.0011  2018   \n",
            "656 2018-03-01      -0.0235  0.0359 -0.0023 -0.0049  0.0002  0.0012  2018   \n",
            "657 2018-04-01       0.0029  0.0090  0.0048 -0.0241  0.0128  0.0014  2018   \n",
            "658 2018-05-01       0.0265  0.0478 -0.0313 -0.0204 -0.0143  0.0014  2018   \n",
            "659 2018-06-01       0.0048  0.0080 -0.0233  0.0082  0.0023  0.0014  2018   \n",
            "660 2018-07-01       0.0319 -0.0194  0.0045  0.0152  0.0037  0.0016  2018   \n",
            "661 2018-08-01       0.0344  0.0063 -0.0398 -0.0030 -0.0266  0.0016  2018   \n",
            "662 2018-09-01       0.0006 -0.0249 -0.0170  0.0067  0.0130  0.0015  2018   \n",
            "663 2018-10-01      -0.0768 -0.0446  0.0343  0.0098  0.0360  0.0019  2018   \n",
            "664 2018-11-01       0.0169 -0.0077  0.0026 -0.0065  0.0036  0.0018  2018   \n",
            "665 2018-12-01      -0.0955 -0.0290 -0.0190 -0.0004  0.0022  0.0019  2018   \n",
            "666 2019-01-01       0.0841  0.0301 -0.0044 -0.0077 -0.0151  0.0021  2019   \n",
            "667 2019-02-01       0.0340  0.0172 -0.0268  0.0021 -0.0162  0.0018  2019   \n",
            "668 2019-03-01       0.0110 -0.0347 -0.0405  0.0081 -0.0097  0.0019  2019   \n",
            "669 2019-04-01       0.0397 -0.0114  0.0217  0.0164 -0.0220  0.0021  2019   \n",
            "670 2019-05-01      -0.0694 -0.0158 -0.0237 -0.0051  0.0175  0.0021  2019   \n",
            "671 2019-06-01       0.0693  0.0036 -0.0071  0.0086 -0.0043  0.0018  2019   \n",
            "672 2019-07-01       0.0119 -0.0187  0.0057 -0.0004  0.0032  0.0019  2019   \n",
            "673 2019-08-01      -0.0258 -0.0322 -0.0489  0.0055 -0.0071  0.0016  2019   \n",
            "674 2019-09-01       0.0143  0.0030  0.0688  0.0182  0.0338  0.0018  2019   \n",
            "675 2019-10-01       0.0207  0.0022 -0.0191  0.0048 -0.0102  0.0015  2019   \n",
            "676 2019-11-01       0.0387  0.0049 -0.0209 -0.0164 -0.0120  0.0012  2019   \n",
            "677 2019-12-01       0.0277  0.0095  0.0180 -0.0001  0.0124  0.0014  2019   \n",
            "678 2020-01-01      -0.0010 -0.0440 -0.0617 -0.0116 -0.0234  0.0013  2020   \n",
            "679 2020-02-01      -0.0813 -0.0001 -0.0375 -0.0145 -0.0252  0.0012  2020   \n",
            "680 2020-03-01      -0.1338 -0.0836 -0.1392 -0.0149  0.0121  0.0012  2020   \n",
            "681 2020-04-01       0.1365  0.0266 -0.0130  0.0264 -0.0094  0.0000  2020   \n",
            "682 2020-05-01       0.0558  0.0202 -0.0492  0.0092 -0.0321  0.0001  2020   \n",
            "683 2020-06-01       0.0246  0.0194 -0.0212  0.0011  0.0051  0.0001  2020   \n",
            "684 2020-07-01       0.0577 -0.0317 -0.0153  0.0036  0.0090  0.0001  2020   \n",
            "685 2020-08-01       0.0763 -0.0092 -0.0295  0.0436 -0.0135  0.0001  2020   \n",
            "686 2020-09-01      -0.0363  0.0001 -0.0258 -0.0138 -0.0180  0.0001  2020   \n",
            "687 2020-10-01      -0.0210  0.0466  0.0414 -0.0093 -0.0077  0.0001  2020   \n",
            "688 2020-11-01       0.1247  0.0699  0.0210 -0.0211  0.0136  0.0001  2020   \n",
            "689 2020-12-01       0.0463  0.0473 -0.0141 -0.0197 -0.0007  0.0001  2020   \n",
            "690 2021-01-01      -0.0003  0.0677  0.0300 -0.0362  0.0478  0.0000  2021   \n",
            "691 2021-02-01       0.0278  0.0453  0.0720  0.0045 -0.0187  0.0000  2021   \n",
            "692 2021-03-01       0.0308 -0.0093  0.0741  0.0635  0.0347  0.0000  2021   \n",
            "693 2021-04-01       0.0493 -0.0310 -0.0095  0.0230 -0.0281  0.0000  2021   \n",
            "694 2021-05-01       0.0029  0.0119  0.0704  0.0234  0.0309  0.0000  2021   \n",
            "695 2021-06-01       0.0275 -0.0028 -0.0782 -0.0214 -0.0104  0.0000  2021   \n",
            "696 2021-07-01       0.0127 -0.0455 -0.0174  0.0537 -0.0054  0.0000  2021   \n",
            "697 2021-08-01       0.0291 -0.0078 -0.0015 -0.0026 -0.0166  0.0000  2021   \n",
            "698 2021-09-01      -0.0437  0.0121  0.0506 -0.0194  0.0202  0.0000  2021   \n",
            "699 2021-10-01       0.0665 -0.0271 -0.0048  0.0174 -0.0151  0.0000  2021   \n",
            "700 2021-11-01      -0.0155 -0.0173 -0.0042  0.0738  0.0163  0.0000  2021   \n",
            "701 2021-12-01       0.0310 -0.0069  0.0322  0.0475  0.0436  0.0001  2021   \n",
            "702 2022-01-01      -0.0625 -0.0395  0.1274  0.0073  0.0773  0.0000  2022   \n",
            "703 2022-02-01      -0.0229  0.0290  0.0309 -0.0212  0.0299  0.0000  2022   \n",
            "704 2022-03-01       0.0306 -0.0214 -0.0182 -0.0132  0.0324  0.0000  2022   \n",
            "705 2022-04-01      -0.0945 -0.0038  0.0616  0.0351  0.0587  0.0000  2022   \n",
            "706 2022-05-01      -0.0034  0.0002  0.0838  0.0161  0.0382  0.0003  2022   \n",
            "\n",
            "    month  \n",
            "654    01  \n",
            "655    02  \n",
            "656    03  \n",
            "657    04  \n",
            "658    05  \n",
            "659    06  \n",
            "660    07  \n",
            "661    08  \n",
            "662    09  \n",
            "663    10  \n",
            "664    11  \n",
            "665    12  \n",
            "666    01  \n",
            "667    02  \n",
            "668    03  \n",
            "669    04  \n",
            "670    05  \n",
            "671    06  \n",
            "672    07  \n",
            "673    08  \n",
            "674    09  \n",
            "675    10  \n",
            "676    11  \n",
            "677    12  \n",
            "678    01  \n",
            "679    02  \n",
            "680    03  \n",
            "681    04  \n",
            "682    05  \n",
            "683    06  \n",
            "684    07  \n",
            "685    08  \n",
            "686    09  \n",
            "687    10  \n",
            "688    11  \n",
            "689    12  \n",
            "690    01  \n",
            "691    02  \n",
            "692    03  \n",
            "693    04  \n",
            "694    05  \n",
            "695    06  \n",
            "696    07  \n",
            "697    08  \n",
            "698    09  \n",
            "699    10  \n",
            "700    11  \n",
            "701    12  \n",
            "702    01  \n",
            "703    02  \n",
            "704    03  \n",
            "705    04  \n",
            "706    05  \n"
          ]
        }
      ]
    },
    {
      "cell_type": "code",
      "source": [
        "\n",
        "#Only keep dates after 2018\n",
        "# ffDF['date'] = ffDF['date'].astype('datetime64[D]')\n",
        "#one from slide\n",
        "#ffDF = ffDF[ffDF['date'] >= 201801]\n",
        "\n",
        "# #chatgpt\n",
        "# ffDF['date'] = ffDF['date'].astype('datetime64[D]')\n",
        "# ffDF = ffDF[ffDF['year'] >= pd.to_datetime('2018-01-01')]\n",
        "\n",
        "# # ffDF['year']= pd.to_ffDF['year']\n",
        "# ffDF['year'] = ffDF['year'].astype(int)\n",
        "# ffDF = ffDF[ffDF['year'] >= 2018]\n",
        "\n",
        "\n",
        "# print(ffDF)"
      ],
      "metadata": {
        "id": "bLd-AfJvha94"
      },
      "execution_count": null,
      "outputs": []
    },
    {
      "cell_type": "code",
      "source": [
        "\n",
        "# ffDF['year'] = \"\"\n",
        "# ffDF['month'] = \"\"\n",
        "\n",
        "# for i in ffDF.index:\n",
        "#   ffDF['year'][i] = int(str(ffDF['date'][i])[0:4]) #take first 4 digits of date (year)\n",
        "#   ffDF['month'][1] = int(str(ffDF['date'][i])[-2] + str(ffDF['date'][i])[-1]) #take last 2 digits of date (month)\n",
        "\n",
        "\n",
        "\n",
        "# # Convert the 'date' column to datetime format\n",
        "# ffDF['date'] = pd.to_datetime(ffDF['date'])\n",
        "\n",
        "# # Extract the 'year' and 'month' columns using vectorized operations\n",
        "# ffDF['year'] = ffDF['date'].dt.year\n",
        "# ffDF['month'] = ffDF['date'].dt.month\n",
        "\n",
        "# #diving by 1000 for only the first digit\n",
        "# # Assuming you want to keep the first 4 digits of the year column (as per the original code)\n",
        "# ffDF['year'] = ffDF['year'] // 1000 * 1000\n",
        "\n",
        "# # Assuming you want to keep the last 2 digits of the month column (as per the original code)\n",
        "# ffDF['month'] = ffDF['month'] % 100\n",
        "\n",
        "# # If you want to keep both year and month as strings\n",
        "# ffDF['year'] = ffDF['year'].astype(str)\n",
        "# ffDF['month'] = ffDF['month'].astype(str)\n",
        "\n",
        "\n",
        "\n",
        "\n",
        "# ffDF['year'] = ffDF['date'].dt.year\n",
        "# ffDF['month'] = ffDF['date'].dt.month\n",
        "\n",
        "\n",
        "#Reindex\n",
        "ffDF= ffDF.reset_index()\n",
        "ffDF.drop('index', inplace= True, axis = 1)\n",
        "\n",
        "print(ffDF)"
      ],
      "metadata": {
        "id": "D6-EQ9LXZt5T",
        "colab": {
          "base_uri": "https://localhost:8080/"
        },
        "outputId": "f07db4b1-a517-4ea7-f193-d22572081e85"
      },
      "execution_count": null,
      "outputs": [
        {
          "output_type": "stream",
          "name": "stdout",
          "text": [
            "         date  rm_minus_rf     smb     hml     rmw     cma      rf  year month\n",
            "0  2018-01-01       0.0558 -0.0325 -0.0136 -0.0072 -0.0105  0.0011  2018    01\n",
            "1  2018-02-01      -0.0365  0.0033 -0.0103  0.0056 -0.0240  0.0011  2018    02\n",
            "2  2018-03-01      -0.0235  0.0359 -0.0023 -0.0049  0.0002  0.0012  2018    03\n",
            "3  2018-04-01       0.0029  0.0090  0.0048 -0.0241  0.0128  0.0014  2018    04\n",
            "4  2018-05-01       0.0265  0.0478 -0.0313 -0.0204 -0.0143  0.0014  2018    05\n",
            "5  2018-06-01       0.0048  0.0080 -0.0233  0.0082  0.0023  0.0014  2018    06\n",
            "6  2018-07-01       0.0319 -0.0194  0.0045  0.0152  0.0037  0.0016  2018    07\n",
            "7  2018-08-01       0.0344  0.0063 -0.0398 -0.0030 -0.0266  0.0016  2018    08\n",
            "8  2018-09-01       0.0006 -0.0249 -0.0170  0.0067  0.0130  0.0015  2018    09\n",
            "9  2018-10-01      -0.0768 -0.0446  0.0343  0.0098  0.0360  0.0019  2018    10\n",
            "10 2018-11-01       0.0169 -0.0077  0.0026 -0.0065  0.0036  0.0018  2018    11\n",
            "11 2018-12-01      -0.0955 -0.0290 -0.0190 -0.0004  0.0022  0.0019  2018    12\n",
            "12 2019-01-01       0.0841  0.0301 -0.0044 -0.0077 -0.0151  0.0021  2019    01\n",
            "13 2019-02-01       0.0340  0.0172 -0.0268  0.0021 -0.0162  0.0018  2019    02\n",
            "14 2019-03-01       0.0110 -0.0347 -0.0405  0.0081 -0.0097  0.0019  2019    03\n",
            "15 2019-04-01       0.0397 -0.0114  0.0217  0.0164 -0.0220  0.0021  2019    04\n",
            "16 2019-05-01      -0.0694 -0.0158 -0.0237 -0.0051  0.0175  0.0021  2019    05\n",
            "17 2019-06-01       0.0693  0.0036 -0.0071  0.0086 -0.0043  0.0018  2019    06\n",
            "18 2019-07-01       0.0119 -0.0187  0.0057 -0.0004  0.0032  0.0019  2019    07\n",
            "19 2019-08-01      -0.0258 -0.0322 -0.0489  0.0055 -0.0071  0.0016  2019    08\n",
            "20 2019-09-01       0.0143  0.0030  0.0688  0.0182  0.0338  0.0018  2019    09\n",
            "21 2019-10-01       0.0207  0.0022 -0.0191  0.0048 -0.0102  0.0015  2019    10\n",
            "22 2019-11-01       0.0387  0.0049 -0.0209 -0.0164 -0.0120  0.0012  2019    11\n",
            "23 2019-12-01       0.0277  0.0095  0.0180 -0.0001  0.0124  0.0014  2019    12\n",
            "24 2020-01-01      -0.0010 -0.0440 -0.0617 -0.0116 -0.0234  0.0013  2020    01\n",
            "25 2020-02-01      -0.0813 -0.0001 -0.0375 -0.0145 -0.0252  0.0012  2020    02\n",
            "26 2020-03-01      -0.1338 -0.0836 -0.1392 -0.0149  0.0121  0.0012  2020    03\n",
            "27 2020-04-01       0.1365  0.0266 -0.0130  0.0264 -0.0094  0.0000  2020    04\n",
            "28 2020-05-01       0.0558  0.0202 -0.0492  0.0092 -0.0321  0.0001  2020    05\n",
            "29 2020-06-01       0.0246  0.0194 -0.0212  0.0011  0.0051  0.0001  2020    06\n",
            "30 2020-07-01       0.0577 -0.0317 -0.0153  0.0036  0.0090  0.0001  2020    07\n",
            "31 2020-08-01       0.0763 -0.0092 -0.0295  0.0436 -0.0135  0.0001  2020    08\n",
            "32 2020-09-01      -0.0363  0.0001 -0.0258 -0.0138 -0.0180  0.0001  2020    09\n",
            "33 2020-10-01      -0.0210  0.0466  0.0414 -0.0093 -0.0077  0.0001  2020    10\n",
            "34 2020-11-01       0.1247  0.0699  0.0210 -0.0211  0.0136  0.0001  2020    11\n",
            "35 2020-12-01       0.0463  0.0473 -0.0141 -0.0197 -0.0007  0.0001  2020    12\n",
            "36 2021-01-01      -0.0003  0.0677  0.0300 -0.0362  0.0478  0.0000  2021    01\n",
            "37 2021-02-01       0.0278  0.0453  0.0720  0.0045 -0.0187  0.0000  2021    02\n",
            "38 2021-03-01       0.0308 -0.0093  0.0741  0.0635  0.0347  0.0000  2021    03\n",
            "39 2021-04-01       0.0493 -0.0310 -0.0095  0.0230 -0.0281  0.0000  2021    04\n",
            "40 2021-05-01       0.0029  0.0119  0.0704  0.0234  0.0309  0.0000  2021    05\n",
            "41 2021-06-01       0.0275 -0.0028 -0.0782 -0.0214 -0.0104  0.0000  2021    06\n",
            "42 2021-07-01       0.0127 -0.0455 -0.0174  0.0537 -0.0054  0.0000  2021    07\n",
            "43 2021-08-01       0.0291 -0.0078 -0.0015 -0.0026 -0.0166  0.0000  2021    08\n",
            "44 2021-09-01      -0.0437  0.0121  0.0506 -0.0194  0.0202  0.0000  2021    09\n",
            "45 2021-10-01       0.0665 -0.0271 -0.0048  0.0174 -0.0151  0.0000  2021    10\n",
            "46 2021-11-01      -0.0155 -0.0173 -0.0042  0.0738  0.0163  0.0000  2021    11\n",
            "47 2021-12-01       0.0310 -0.0069  0.0322  0.0475  0.0436  0.0001  2021    12\n",
            "48 2022-01-01      -0.0625 -0.0395  0.1274  0.0073  0.0773  0.0000  2022    01\n",
            "49 2022-02-01      -0.0229  0.0290  0.0309 -0.0212  0.0299  0.0000  2022    02\n",
            "50 2022-03-01       0.0306 -0.0214 -0.0182 -0.0132  0.0324  0.0000  2022    03\n",
            "51 2022-04-01      -0.0945 -0.0038  0.0616  0.0351  0.0587  0.0000  2022    04\n",
            "52 2022-05-01      -0.0034  0.0002  0.0838  0.0161  0.0382  0.0003  2022    05\n"
          ]
        }
      ]
    },
    {
      "cell_type": "code",
      "source": [
        "#Calculate annual market return for risk free rate\n",
        "annualRmMinusRf = pd.DataFrame(index = [2018, 2019, 2020, 2021], columns = ['year', 'annual_rm_minus_rf'])\n",
        "annualRmMinusRf['year'] = annualRmMinusRf.index\n",
        "\n",
        "tempDF = ffDF.loc[0:11]\n",
        "#basic rate calculation\n",
        "tempDF['rm_minus_rf_compounded'] = (1 + tempDF['rm_minus_rf']).cumprod() - 1\n",
        "annualRmMinusRf['annual_rm_minus_rf'][2018] = tempDF['rm_minus_rf_compounded'][11]\n",
        "\n",
        "tempDF = ffDF.loc[12:23]\n",
        "#basic rate calculation\n",
        "tempDF['rm_minus_rf_compounded'] = (1 + tempDF['rm_minus_rf']).cumprod() - 1\n",
        "annualRmMinusRf['annual_rm_minus_rf'][2019] = tempDF['rm_minus_rf_compounded'][23]\n",
        "\n",
        "\n",
        "tempDF = ffDF.loc[24:35]\n",
        "#basic rate calculation\n",
        "tempDF['rm_minus_rf_compounded'] = (1 + tempDF['rm_minus_rf']).cumprod() - 1\n",
        "annualRmMinusRf['annual_rm_minus_rf'][2020] = tempDF['rm_minus_rf_compounded'][35]\n",
        "\n",
        "\n",
        "tempDF = ffDF.loc[36:47]\n",
        "#basic rate calculation\n",
        "tempDF['rm_minus_rf_compounded'] = (1 + tempDF['rm_minus_rf']).cumprod() - 1\n",
        "annualRmMinusRf['annual_rm_minus_rf'][2021] = tempDF['rm_minus_rf_compounded'][47]\n",
        "\n",
        "print(annualRmMinusRf)"
      ],
      "metadata": {
        "id": "Ega_Dz2gHjp0",
        "colab": {
          "base_uri": "https://localhost:8080/"
        },
        "outputId": "756a7269-115e-40d3-8d1b-dd9d9e39c90f"
      },
      "execution_count": null,
      "outputs": [
        {
          "output_type": "stream",
          "name": "stdout",
          "text": [
            "      year annual_rm_minus_rf\n",
            "2018  2018          -0.068096\n",
            "2019  2019           0.277375\n",
            "2020  2020           0.235311\n",
            "2021  2021           0.235548\n"
          ]
        },
        {
          "output_type": "stream",
          "name": "stderr",
          "text": [
            "<ipython-input-37-61d270443e48>:7: SettingWithCopyWarning: \n",
            "A value is trying to be set on a copy of a slice from a DataFrame.\n",
            "Try using .loc[row_indexer,col_indexer] = value instead\n",
            "\n",
            "See the caveats in the documentation: https://pandas.pydata.org/pandas-docs/stable/user_guide/indexing.html#returning-a-view-versus-a-copy\n",
            "  tempDF['rm_minus_rf_compounded'] = (1 + tempDF['rm_minus_rf']).cumprod() - 1\n",
            "<ipython-input-37-61d270443e48>:8: SettingWithCopyWarning: \n",
            "A value is trying to be set on a copy of a slice from a DataFrame\n",
            "\n",
            "See the caveats in the documentation: https://pandas.pydata.org/pandas-docs/stable/user_guide/indexing.html#returning-a-view-versus-a-copy\n",
            "  annualRmMinusRf['annual_rm_minus_rf'][2018] = tempDF['rm_minus_rf_compounded'][11]\n",
            "<ipython-input-37-61d270443e48>:12: SettingWithCopyWarning: \n",
            "A value is trying to be set on a copy of a slice from a DataFrame.\n",
            "Try using .loc[row_indexer,col_indexer] = value instead\n",
            "\n",
            "See the caveats in the documentation: https://pandas.pydata.org/pandas-docs/stable/user_guide/indexing.html#returning-a-view-versus-a-copy\n",
            "  tempDF['rm_minus_rf_compounded'] = (1 + tempDF['rm_minus_rf']).cumprod() - 1\n",
            "<ipython-input-37-61d270443e48>:13: SettingWithCopyWarning: \n",
            "A value is trying to be set on a copy of a slice from a DataFrame\n",
            "\n",
            "See the caveats in the documentation: https://pandas.pydata.org/pandas-docs/stable/user_guide/indexing.html#returning-a-view-versus-a-copy\n",
            "  annualRmMinusRf['annual_rm_minus_rf'][2019] = tempDF['rm_minus_rf_compounded'][23]\n",
            "<ipython-input-37-61d270443e48>:18: SettingWithCopyWarning: \n",
            "A value is trying to be set on a copy of a slice from a DataFrame.\n",
            "Try using .loc[row_indexer,col_indexer] = value instead\n",
            "\n",
            "See the caveats in the documentation: https://pandas.pydata.org/pandas-docs/stable/user_guide/indexing.html#returning-a-view-versus-a-copy\n",
            "  tempDF['rm_minus_rf_compounded'] = (1 + tempDF['rm_minus_rf']).cumprod() - 1\n",
            "<ipython-input-37-61d270443e48>:19: SettingWithCopyWarning: \n",
            "A value is trying to be set on a copy of a slice from a DataFrame\n",
            "\n",
            "See the caveats in the documentation: https://pandas.pydata.org/pandas-docs/stable/user_guide/indexing.html#returning-a-view-versus-a-copy\n",
            "  annualRmMinusRf['annual_rm_minus_rf'][2020] = tempDF['rm_minus_rf_compounded'][35]\n",
            "<ipython-input-37-61d270443e48>:24: SettingWithCopyWarning: \n",
            "A value is trying to be set on a copy of a slice from a DataFrame.\n",
            "Try using .loc[row_indexer,col_indexer] = value instead\n",
            "\n",
            "See the caveats in the documentation: https://pandas.pydata.org/pandas-docs/stable/user_guide/indexing.html#returning-a-view-versus-a-copy\n",
            "  tempDF['rm_minus_rf_compounded'] = (1 + tempDF['rm_minus_rf']).cumprod() - 1\n",
            "<ipython-input-37-61d270443e48>:25: SettingWithCopyWarning: \n",
            "A value is trying to be set on a copy of a slice from a DataFrame\n",
            "\n",
            "See the caveats in the documentation: https://pandas.pydata.org/pandas-docs/stable/user_guide/indexing.html#returning-a-view-versus-a-copy\n",
            "  annualRmMinusRf['annual_rm_minus_rf'][2021] = tempDF['rm_minus_rf_compounded'][47]\n"
          ]
        }
      ]
    },
    {
      "cell_type": "markdown",
      "source": [
        "Work with mainDF"
      ],
      "metadata": {
        "id": "b_D1C_ZY5juA"
      }
    },
    {
      "cell_type": "code",
      "source": [
        "print(mainDF)"
      ],
      "metadata": {
        "colab": {
          "base_uri": "https://localhost:8080/"
        },
        "id": "gc2Wj4ufy9mW",
        "outputId": "20dd961e-8145-4476-952f-7af79b580f68"
      },
      "execution_count": null,
      "outputs": [
        {
          "output_type": "stream",
          "name": "stdout",
          "text": [
            "         tic       date  shrcd  exchcd  siccd     shrout      altprc  \\\n",
            "0       JJSF 2018-01-31   11.0     3.0   20.0    18678.0   138.44000   \n",
            "1       JJSF 2018-02-28   11.0     3.0   20.0    18678.0   134.33000   \n",
            "2       JJSF 2018-03-29   11.0     3.0   20.0    18697.0   136.56000   \n",
            "3       JJSF 2018-04-30   11.0     3.0   20.0    18702.0   137.41000   \n",
            "4       JJSF 2018-05-31   11.0     3.0   20.0    18702.0   141.62000   \n",
            "...      ...        ...    ...     ...    ...        ...         ...   \n",
            "193909  TSLA 2021-11-30   11.0     3.0   99.0  1004265.0  1144.76001   \n",
            "193910  TSLA 2021-12-31   11.0     3.0   99.0  1033534.0  1056.78003   \n",
            "193911  TSLA 2022-01-31   11.0     3.0   99.0  1033534.0   936.71997   \n",
            "193912  TSLA 2022-02-28   11.0     3.0   99.0  1033534.0   870.42999   \n",
            "193913  TSLA 2022-03-31   11.0     3.0   99.0  1033534.0  1077.59998   \n",
            "\n",
            "             ret   ret_adj   datadate  ...  delta_std delta_tp accruals  \\\n",
            "0      -0.088191 -0.088191        NaT  ...        NaN      NaN      NaN   \n",
            "1      -0.029688 -0.029688        NaT  ...        NaN      NaN      NaN   \n",
            "2       0.019951  0.019951        NaT  ...        NaN      NaN      NaN   \n",
            "3       0.006224  0.006224        NaT  ...        NaN      NaN      NaN   \n",
            "4       0.030638  0.030638        NaT  ...        NaN      NaN      NaN   \n",
            "...          ...       ...        ...  ...        ...      ...      ...   \n",
            "193909  0.027612  0.027612        NaT  ...        NaN      NaN      NaN   \n",
            "193910 -0.076855 -0.076855 2021-12-31  ...     -502.0    345.0  -6258.0   \n",
            "193911 -0.113609 -0.113609        NaT  ...        NaN      NaN      NaN   \n",
            "193912 -0.070768 -0.070768        NaT  ...        NaN      NaN      NaN   \n",
            "193913  0.238009 -1.000000        NaT  ...        NaN      NaN      NaN   \n",
            "\n",
            "        accruals_subcomp_1  accruals_subcomp_2  accruals_subcomp_3  \\\n",
            "0                      NaN                 NaN                 NaN   \n",
            "1                      NaN                 NaN                 NaN   \n",
            "2                      NaN                 NaN                 NaN   \n",
            "3                      NaN                 NaN                 NaN   \n",
            "4                      NaN                 NaN                 NaN   \n",
            "...                    ...                 ...                 ...   \n",
            "193909                 NaN                 NaN                 NaN   \n",
            "193910            0.043807           -0.125926           -0.065296   \n",
            "193911                 NaN                 NaN                 NaN   \n",
            "193912                 NaN                 NaN                 NaN   \n",
            "193913                 NaN                 NaN                 NaN   \n",
            "\n",
            "            avg_at  earnings_comp  accruals_comp  cash_flows_comp  \n",
            "0              NaN            NaN            NaN              NaN  \n",
            "1              NaN            NaN            NaN              NaN  \n",
            "2              NaN            NaN            NaN              NaN  \n",
            "3              NaN            NaN            NaN              NaN  \n",
            "4              NaN            NaN            NaN              NaN  \n",
            "...            ...            ...            ...              ...  \n",
            "193909         NaN            NaN            NaN              NaN  \n",
            "193910  44581.9035       0.145709      -0.140371          0.28608  \n",
            "193911         NaN            NaN            NaN              NaN  \n",
            "193912         NaN            NaN            NaN              NaN  \n",
            "193913         NaN            NaN            NaN              NaN  \n",
            "\n",
            "[193914 rows x 35 columns]\n"
          ]
        }
      ]
    },
    {
      "cell_type": "code",
      "source": [
        "print(mainDF.columns)"
      ],
      "metadata": {
        "colab": {
          "base_uri": "https://localhost:8080/"
        },
        "id": "lyNj5Wa_xTF7",
        "outputId": "723b410b-0773-464e-bf14-aacf8653f2ee"
      },
      "execution_count": null,
      "outputs": [
        {
          "output_type": "stream",
          "name": "stdout",
          "text": [
            "Index(['tic', 'date', 'shrcd', 'exchcd', 'siccd', 'shrout', 'altprc', 'ret',\n",
            "       'ret_adj', 'datadate', 'fyear', 'indfmt', 'datafmt', 'cash', 'ca', 'cl',\n",
            "       'ta', 'dep', 'ib', 'std', 'tp', 'oiadp', 'delta_cash', 'delta_ca',\n",
            "       'delta_cl', 'delta_std', 'delta_tp', 'accruals', 'accruals_subcomp_1',\n",
            "       'accruals_subcomp_2', 'accruals_subcomp_3', 'avg_at', 'earnings_comp',\n",
            "       'accruals_comp', 'cash_flows_comp', 'rm_minus_rf', 'smb', 'hml', 'rmw',\n",
            "       'cma', 'rf', 'year', 'month'],\n",
            "      dtype='object')\n"
          ]
        }
      ]
    },
    {
      "cell_type": "code",
      "source": [
        "#Left join relevant FF (risk-free rate) data into main DataFrame\n",
        "mainDF= mainDF.merge(ffDF, how= 'left', on= 'date')\n",
        "\n",
        "print(mainDF)"
      ],
      "metadata": {
        "id": "3_dYa-lgZ0JW",
        "colab": {
          "base_uri": "https://localhost:8080/"
        },
        "outputId": "a5eb1b60-1192-46b7-f212-cbc2951608ff"
      },
      "execution_count": null,
      "outputs": [
        {
          "output_type": "stream",
          "name": "stdout",
          "text": [
            "         tic       date  shrcd  exchcd  siccd     shrout      altprc  \\\n",
            "0       JJSF 2018-01-31   11.0     3.0   20.0    18678.0   138.44000   \n",
            "1       JJSF 2018-02-28   11.0     3.0   20.0    18678.0   134.33000   \n",
            "2       JJSF 2018-03-29   11.0     3.0   20.0    18697.0   136.56000   \n",
            "3       JJSF 2018-04-30   11.0     3.0   20.0    18702.0   137.41000   \n",
            "4       JJSF 2018-05-31   11.0     3.0   20.0    18702.0   141.62000   \n",
            "...      ...        ...    ...     ...    ...        ...         ...   \n",
            "193909  TSLA 2021-11-30   11.0     3.0   99.0  1004265.0  1144.76001   \n",
            "193910  TSLA 2021-12-31   11.0     3.0   99.0  1033534.0  1056.78003   \n",
            "193911  TSLA 2022-01-31   11.0     3.0   99.0  1033534.0   936.71997   \n",
            "193912  TSLA 2022-02-28   11.0     3.0   99.0  1033534.0   870.42999   \n",
            "193913  TSLA 2022-03-31   11.0     3.0   99.0  1033534.0  1077.59998   \n",
            "\n",
            "             ret   ret_adj   datadate  ...  accruals_comp cash_flows_comp  \\\n",
            "0      -0.088191 -0.088191        NaT  ...            NaN             NaN   \n",
            "1      -0.029688 -0.029688        NaT  ...            NaN             NaN   \n",
            "2       0.019951  0.019951        NaT  ...            NaN             NaN   \n",
            "3       0.006224  0.006224        NaT  ...            NaN             NaN   \n",
            "4       0.030638  0.030638        NaT  ...            NaN             NaN   \n",
            "...          ...       ...        ...  ...            ...             ...   \n",
            "193909  0.027612  0.027612        NaT  ...            NaN             NaN   \n",
            "193910 -0.076855 -0.076855 2021-12-31  ...      -0.140371         0.28608   \n",
            "193911 -0.113609 -0.113609        NaT  ...            NaN             NaN   \n",
            "193912 -0.070768 -0.070768        NaT  ...            NaN             NaN   \n",
            "193913  0.238009 -1.000000        NaT  ...            NaN             NaN   \n",
            "\n",
            "       rm_minus_rf  smb  hml  rmw  cma  rf  year  month  \n",
            "0              NaN  NaN  NaN  NaN  NaN NaN   NaN    NaN  \n",
            "1              NaN  NaN  NaN  NaN  NaN NaN   NaN    NaN  \n",
            "2              NaN  NaN  NaN  NaN  NaN NaN   NaN    NaN  \n",
            "3              NaN  NaN  NaN  NaN  NaN NaN   NaN    NaN  \n",
            "4              NaN  NaN  NaN  NaN  NaN NaN   NaN    NaN  \n",
            "...            ...  ...  ...  ...  ...  ..   ...    ...  \n",
            "193909         NaN  NaN  NaN  NaN  NaN NaN   NaN    NaN  \n",
            "193910         NaN  NaN  NaN  NaN  NaN NaN   NaN    NaN  \n",
            "193911         NaN  NaN  NaN  NaN  NaN NaN   NaN    NaN  \n",
            "193912         NaN  NaN  NaN  NaN  NaN NaN   NaN    NaN  \n",
            "193913         NaN  NaN  NaN  NaN  NaN NaN   NaN    NaN  \n",
            "\n",
            "[193914 rows x 43 columns]\n"
          ]
        }
      ]
    },
    {
      "cell_type": "markdown",
      "source": [
        "Make size deciles"
      ],
      "metadata": {
        "id": "_urZM7qw0zu6"
      }
    },
    {
      "cell_type": "code",
      "source": [
        "mainDFcheckpoint=mainDF"
      ],
      "metadata": {
        "id": "hPVZYAHZ98nC"
      },
      "execution_count": null,
      "outputs": []
    },
    {
      "cell_type": "code",
      "source": [
        "mainDF= mainDFcheckpoint"
      ],
      "metadata": {
        "id": "7SdT7G7S9_X4"
      },
      "execution_count": null,
      "outputs": []
    },
    {
      "cell_type": "code",
      "source": [
        "file = \"/content/drive/MyDrive/Exeter google drive /internships jobs/FIMA '23/Ertimur replication/Compustat2018Through2022.csv\"\n",
        "columnsToUse= ['cshoq', 'prccq', 'tic', 'rdq']\n",
        "marketvaluedf = pd.read_csv(file, usecols= columnsToUse)[columnsToUse]\n",
        "print(marketvaluedf.columns)\n",
        "print(marketvaluedf)"
      ],
      "metadata": {
        "colab": {
          "base_uri": "https://localhost:8080/",
          "height": 521
        },
        "id": "BzesfBn9-YLQ",
        "outputId": "c2cb203a-6db2-47b1-a6c1-534f4c8f42b9"
      },
      "execution_count": null,
      "outputs": [
        {
          "output_type": "error",
          "ename": "OSError",
          "evalue": "ignored",
          "traceback": [
            "\u001b[0;31m---------------------------------------------------------------------------\u001b[0m",
            "\u001b[0;31mOSError\u001b[0m                                   Traceback (most recent call last)",
            "\u001b[0;32m<ipython-input-42-9c30563f257e>\u001b[0m in \u001b[0;36m<cell line: 3>\u001b[0;34m()\u001b[0m\n\u001b[1;32m      1\u001b[0m \u001b[0mfile\u001b[0m \u001b[0;34m=\u001b[0m \u001b[0;34m\"/content/drive/MyDrive/Exeter google drive /internships jobs/FIMA '23/Ertimur replication/Compustat2018Through2022.csv\"\u001b[0m\u001b[0;34m\u001b[0m\u001b[0;34m\u001b[0m\u001b[0m\n\u001b[1;32m      2\u001b[0m \u001b[0mcolumnsToUse\u001b[0m\u001b[0;34m=\u001b[0m \u001b[0;34m[\u001b[0m\u001b[0;34m'cshoq'\u001b[0m\u001b[0;34m,\u001b[0m \u001b[0;34m'prccq'\u001b[0m\u001b[0;34m,\u001b[0m \u001b[0;34m'tic'\u001b[0m\u001b[0;34m,\u001b[0m \u001b[0;34m'rdq'\u001b[0m\u001b[0;34m]\u001b[0m\u001b[0;34m\u001b[0m\u001b[0;34m\u001b[0m\u001b[0m\n\u001b[0;32m----> 3\u001b[0;31m \u001b[0mmarketvaluedf\u001b[0m \u001b[0;34m=\u001b[0m \u001b[0mpd\u001b[0m\u001b[0;34m.\u001b[0m\u001b[0mread_csv\u001b[0m\u001b[0;34m(\u001b[0m\u001b[0mfile\u001b[0m\u001b[0;34m,\u001b[0m \u001b[0musecols\u001b[0m\u001b[0;34m=\u001b[0m \u001b[0mcolumnsToUse\u001b[0m\u001b[0;34m)\u001b[0m\u001b[0;34m[\u001b[0m\u001b[0mcolumnsToUse\u001b[0m\u001b[0;34m]\u001b[0m\u001b[0;34m\u001b[0m\u001b[0;34m\u001b[0m\u001b[0m\n\u001b[0m\u001b[1;32m      4\u001b[0m \u001b[0mprint\u001b[0m\u001b[0;34m(\u001b[0m\u001b[0mmarketvaluedf\u001b[0m\u001b[0;34m.\u001b[0m\u001b[0mcolumns\u001b[0m\u001b[0;34m)\u001b[0m\u001b[0;34m\u001b[0m\u001b[0;34m\u001b[0m\u001b[0m\n\u001b[1;32m      5\u001b[0m \u001b[0mprint\u001b[0m\u001b[0;34m(\u001b[0m\u001b[0mmarketvaluedf\u001b[0m\u001b[0;34m)\u001b[0m\u001b[0;34m\u001b[0m\u001b[0;34m\u001b[0m\u001b[0m\n",
            "\u001b[0;32m/usr/local/lib/python3.10/dist-packages/pandas/util/_decorators.py\u001b[0m in \u001b[0;36mwrapper\u001b[0;34m(*args, **kwargs)\u001b[0m\n\u001b[1;32m    209\u001b[0m                 \u001b[0;32melse\u001b[0m\u001b[0;34m:\u001b[0m\u001b[0;34m\u001b[0m\u001b[0;34m\u001b[0m\u001b[0m\n\u001b[1;32m    210\u001b[0m                     \u001b[0mkwargs\u001b[0m\u001b[0;34m[\u001b[0m\u001b[0mnew_arg_name\u001b[0m\u001b[0;34m]\u001b[0m \u001b[0;34m=\u001b[0m \u001b[0mnew_arg_value\u001b[0m\u001b[0;34m\u001b[0m\u001b[0;34m\u001b[0m\u001b[0m\n\u001b[0;32m--> 211\u001b[0;31m             \u001b[0;32mreturn\u001b[0m \u001b[0mfunc\u001b[0m\u001b[0;34m(\u001b[0m\u001b[0;34m*\u001b[0m\u001b[0margs\u001b[0m\u001b[0;34m,\u001b[0m \u001b[0;34m**\u001b[0m\u001b[0mkwargs\u001b[0m\u001b[0;34m)\u001b[0m\u001b[0;34m\u001b[0m\u001b[0;34m\u001b[0m\u001b[0m\n\u001b[0m\u001b[1;32m    212\u001b[0m \u001b[0;34m\u001b[0m\u001b[0m\n\u001b[1;32m    213\u001b[0m         \u001b[0;32mreturn\u001b[0m \u001b[0mcast\u001b[0m\u001b[0;34m(\u001b[0m\u001b[0mF\u001b[0m\u001b[0;34m,\u001b[0m \u001b[0mwrapper\u001b[0m\u001b[0;34m)\u001b[0m\u001b[0;34m\u001b[0m\u001b[0;34m\u001b[0m\u001b[0m\n",
            "\u001b[0;32m/usr/local/lib/python3.10/dist-packages/pandas/util/_decorators.py\u001b[0m in \u001b[0;36mwrapper\u001b[0;34m(*args, **kwargs)\u001b[0m\n\u001b[1;32m    329\u001b[0m                     \u001b[0mstacklevel\u001b[0m\u001b[0;34m=\u001b[0m\u001b[0mfind_stack_level\u001b[0m\u001b[0;34m(\u001b[0m\u001b[0;34m)\u001b[0m\u001b[0;34m,\u001b[0m\u001b[0;34m\u001b[0m\u001b[0;34m\u001b[0m\u001b[0m\n\u001b[1;32m    330\u001b[0m                 )\n\u001b[0;32m--> 331\u001b[0;31m             \u001b[0;32mreturn\u001b[0m \u001b[0mfunc\u001b[0m\u001b[0;34m(\u001b[0m\u001b[0;34m*\u001b[0m\u001b[0margs\u001b[0m\u001b[0;34m,\u001b[0m \u001b[0;34m**\u001b[0m\u001b[0mkwargs\u001b[0m\u001b[0;34m)\u001b[0m\u001b[0;34m\u001b[0m\u001b[0;34m\u001b[0m\u001b[0m\n\u001b[0m\u001b[1;32m    332\u001b[0m \u001b[0;34m\u001b[0m\u001b[0m\n\u001b[1;32m    333\u001b[0m         \u001b[0;31m# error: \"Callable[[VarArg(Any), KwArg(Any)], Any]\" has no\u001b[0m\u001b[0;34m\u001b[0m\u001b[0;34m\u001b[0m\u001b[0m\n",
            "\u001b[0;32m/usr/local/lib/python3.10/dist-packages/pandas/io/parsers/readers.py\u001b[0m in \u001b[0;36mread_csv\u001b[0;34m(filepath_or_buffer, sep, delimiter, header, names, index_col, usecols, squeeze, prefix, mangle_dupe_cols, dtype, engine, converters, true_values, false_values, skipinitialspace, skiprows, skipfooter, nrows, na_values, keep_default_na, na_filter, verbose, skip_blank_lines, parse_dates, infer_datetime_format, keep_date_col, date_parser, dayfirst, cache_dates, iterator, chunksize, compression, thousands, decimal, lineterminator, quotechar, quoting, doublequote, escapechar, comment, encoding, encoding_errors, dialect, error_bad_lines, warn_bad_lines, on_bad_lines, delim_whitespace, low_memory, memory_map, float_precision, storage_options)\u001b[0m\n\u001b[1;32m    948\u001b[0m     \u001b[0mkwds\u001b[0m\u001b[0;34m.\u001b[0m\u001b[0mupdate\u001b[0m\u001b[0;34m(\u001b[0m\u001b[0mkwds_defaults\u001b[0m\u001b[0;34m)\u001b[0m\u001b[0;34m\u001b[0m\u001b[0;34m\u001b[0m\u001b[0m\n\u001b[1;32m    949\u001b[0m \u001b[0;34m\u001b[0m\u001b[0m\n\u001b[0;32m--> 950\u001b[0;31m     \u001b[0;32mreturn\u001b[0m \u001b[0m_read\u001b[0m\u001b[0;34m(\u001b[0m\u001b[0mfilepath_or_buffer\u001b[0m\u001b[0;34m,\u001b[0m \u001b[0mkwds\u001b[0m\u001b[0;34m)\u001b[0m\u001b[0;34m\u001b[0m\u001b[0;34m\u001b[0m\u001b[0m\n\u001b[0m\u001b[1;32m    951\u001b[0m \u001b[0;34m\u001b[0m\u001b[0m\n\u001b[1;32m    952\u001b[0m \u001b[0;34m\u001b[0m\u001b[0m\n",
            "\u001b[0;32m/usr/local/lib/python3.10/dist-packages/pandas/io/parsers/readers.py\u001b[0m in \u001b[0;36m_read\u001b[0;34m(filepath_or_buffer, kwds)\u001b[0m\n\u001b[1;32m    603\u001b[0m \u001b[0;34m\u001b[0m\u001b[0m\n\u001b[1;32m    604\u001b[0m     \u001b[0;31m# Create the parser.\u001b[0m\u001b[0;34m\u001b[0m\u001b[0;34m\u001b[0m\u001b[0m\n\u001b[0;32m--> 605\u001b[0;31m     \u001b[0mparser\u001b[0m \u001b[0;34m=\u001b[0m \u001b[0mTextFileReader\u001b[0m\u001b[0;34m(\u001b[0m\u001b[0mfilepath_or_buffer\u001b[0m\u001b[0;34m,\u001b[0m \u001b[0;34m**\u001b[0m\u001b[0mkwds\u001b[0m\u001b[0;34m)\u001b[0m\u001b[0;34m\u001b[0m\u001b[0;34m\u001b[0m\u001b[0m\n\u001b[0m\u001b[1;32m    606\u001b[0m \u001b[0;34m\u001b[0m\u001b[0m\n\u001b[1;32m    607\u001b[0m     \u001b[0;32mif\u001b[0m \u001b[0mchunksize\u001b[0m \u001b[0;32mor\u001b[0m \u001b[0miterator\u001b[0m\u001b[0;34m:\u001b[0m\u001b[0;34m\u001b[0m\u001b[0;34m\u001b[0m\u001b[0m\n",
            "\u001b[0;32m/usr/local/lib/python3.10/dist-packages/pandas/io/parsers/readers.py\u001b[0m in \u001b[0;36m__init__\u001b[0;34m(self, f, engine, **kwds)\u001b[0m\n\u001b[1;32m   1440\u001b[0m \u001b[0;34m\u001b[0m\u001b[0m\n\u001b[1;32m   1441\u001b[0m         \u001b[0mself\u001b[0m\u001b[0;34m.\u001b[0m\u001b[0mhandles\u001b[0m\u001b[0;34m:\u001b[0m \u001b[0mIOHandles\u001b[0m \u001b[0;34m|\u001b[0m \u001b[0;32mNone\u001b[0m \u001b[0;34m=\u001b[0m \u001b[0;32mNone\u001b[0m\u001b[0;34m\u001b[0m\u001b[0;34m\u001b[0m\u001b[0m\n\u001b[0;32m-> 1442\u001b[0;31m         \u001b[0mself\u001b[0m\u001b[0;34m.\u001b[0m\u001b[0m_engine\u001b[0m \u001b[0;34m=\u001b[0m \u001b[0mself\u001b[0m\u001b[0;34m.\u001b[0m\u001b[0m_make_engine\u001b[0m\u001b[0;34m(\u001b[0m\u001b[0mf\u001b[0m\u001b[0;34m,\u001b[0m \u001b[0mself\u001b[0m\u001b[0;34m.\u001b[0m\u001b[0mengine\u001b[0m\u001b[0;34m)\u001b[0m\u001b[0;34m\u001b[0m\u001b[0;34m\u001b[0m\u001b[0m\n\u001b[0m\u001b[1;32m   1443\u001b[0m \u001b[0;34m\u001b[0m\u001b[0m\n\u001b[1;32m   1444\u001b[0m     \u001b[0;32mdef\u001b[0m \u001b[0mclose\u001b[0m\u001b[0;34m(\u001b[0m\u001b[0mself\u001b[0m\u001b[0;34m)\u001b[0m \u001b[0;34m->\u001b[0m \u001b[0;32mNone\u001b[0m\u001b[0;34m:\u001b[0m\u001b[0;34m\u001b[0m\u001b[0;34m\u001b[0m\u001b[0m\n",
            "\u001b[0;32m/usr/local/lib/python3.10/dist-packages/pandas/io/parsers/readers.py\u001b[0m in \u001b[0;36m_make_engine\u001b[0;34m(self, f, engine)\u001b[0m\n\u001b[1;32m   1733\u001b[0m                 \u001b[0;32mif\u001b[0m \u001b[0;34m\"b\"\u001b[0m \u001b[0;32mnot\u001b[0m \u001b[0;32min\u001b[0m \u001b[0mmode\u001b[0m\u001b[0;34m:\u001b[0m\u001b[0;34m\u001b[0m\u001b[0;34m\u001b[0m\u001b[0m\n\u001b[1;32m   1734\u001b[0m                     \u001b[0mmode\u001b[0m \u001b[0;34m+=\u001b[0m \u001b[0;34m\"b\"\u001b[0m\u001b[0;34m\u001b[0m\u001b[0;34m\u001b[0m\u001b[0m\n\u001b[0;32m-> 1735\u001b[0;31m             self.handles = get_handle(\n\u001b[0m\u001b[1;32m   1736\u001b[0m                 \u001b[0mf\u001b[0m\u001b[0;34m,\u001b[0m\u001b[0;34m\u001b[0m\u001b[0;34m\u001b[0m\u001b[0m\n\u001b[1;32m   1737\u001b[0m                 \u001b[0mmode\u001b[0m\u001b[0;34m,\u001b[0m\u001b[0;34m\u001b[0m\u001b[0;34m\u001b[0m\u001b[0m\n",
            "\u001b[0;32m/usr/local/lib/python3.10/dist-packages/pandas/io/common.py\u001b[0m in \u001b[0;36mget_handle\u001b[0;34m(path_or_buf, mode, encoding, compression, memory_map, is_text, errors, storage_options)\u001b[0m\n\u001b[1;32m    854\u001b[0m         \u001b[0;32mif\u001b[0m \u001b[0mioargs\u001b[0m\u001b[0;34m.\u001b[0m\u001b[0mencoding\u001b[0m \u001b[0;32mand\u001b[0m \u001b[0;34m\"b\"\u001b[0m \u001b[0;32mnot\u001b[0m \u001b[0;32min\u001b[0m \u001b[0mioargs\u001b[0m\u001b[0;34m.\u001b[0m\u001b[0mmode\u001b[0m\u001b[0;34m:\u001b[0m\u001b[0;34m\u001b[0m\u001b[0;34m\u001b[0m\u001b[0m\n\u001b[1;32m    855\u001b[0m             \u001b[0;31m# Encoding\u001b[0m\u001b[0;34m\u001b[0m\u001b[0;34m\u001b[0m\u001b[0m\n\u001b[0;32m--> 856\u001b[0;31m             handle = open(\n\u001b[0m\u001b[1;32m    857\u001b[0m                 \u001b[0mhandle\u001b[0m\u001b[0;34m,\u001b[0m\u001b[0;34m\u001b[0m\u001b[0;34m\u001b[0m\u001b[0m\n\u001b[1;32m    858\u001b[0m                 \u001b[0mioargs\u001b[0m\u001b[0;34m.\u001b[0m\u001b[0mmode\u001b[0m\u001b[0;34m,\u001b[0m\u001b[0;34m\u001b[0m\u001b[0;34m\u001b[0m\u001b[0m\n",
            "\u001b[0;31mOSError\u001b[0m: [Errno 107] Transport endpoint is not connected: \"/content/drive/MyDrive/Exeter google drive /internships jobs/FIMA '23/Ertimur replication/Compustat2018Through2022.csv\""
          ]
        }
      ]
    },
    {
      "cell_type": "code",
      "source": [
        "marketvaluedf['tic']= marketvaluedf['tic'].astype(str)\n",
        "marketvaluedf['rdq']= pd.to_numeric(marketvaluedf['rdq'],errors= 'coerce')\n",
        "marketvaluedf['cshoq']= pd.to_numeric(marketvaluedf['cshoq'], errors= 'coerce')\n",
        "marketvaluedf['prccq']= pd.to_numeric(marketvaluedf['prccq'],errors= 'coerce')\n",
        "print(marketvaluedf)"
      ],
      "metadata": {
        "id": "ijsTRFM6--K9"
      },
      "execution_count": null,
      "outputs": []
    },
    {
      "cell_type": "code",
      "source": [
        "marketvaluedf2019= marketvaluedf[marketvaluedf['datadate'] >= \"2019-01-01\"]\n",
        "print(marketvaluedf2019)"
      ],
      "metadata": {
        "id": "jE_HI6dk_HcJ"
      },
      "execution_count": null,
      "outputs": []
    },
    {
      "cell_type": "code",
      "source": [
        "mainDF= mainDF.merge(marketvaluedf2019, how= 'left', on= 'rdq')\n",
        "print(mainDF)\n",
        "\n"
      ],
      "metadata": {
        "id": "riMgTFOM9vBt"
      },
      "execution_count": null,
      "outputs": []
    },
    {
      "cell_type": "code",
      "source": [
        "mainDF['market_value'] = mainDF['cshoq'] * mainDF['prccq']\n",
        "print(mainDF)\n"
      ],
      "metadata": {
        "id": "208M3_1YxBnc"
      },
      "execution_count": null,
      "outputs": []
    },
    {
      "cell_type": "code",
      "source": [
        "onerdq= mainDF\n",
        "\n",
        "print(onerdq)"
      ],
      "metadata": {
        "id": "BXEtCvlX0V5G"
      },
      "execution_count": null,
      "outputs": []
    },
    {
      "cell_type": "code",
      "source": [
        "print(onerdq.columns)"
      ],
      "metadata": {
        "id": "jwEIDbZx9bfA"
      },
      "execution_count": null,
      "outputs": []
    },
    {
      "cell_type": "code",
      "source": [
        "\n",
        "#new df with only year and first market value\n",
        "marketvaluestartyear= onerdq.groupby(['year', 'tic'], as_index= False)['market_value'].first()\n",
        "\n",
        "\n",
        "print(marketvaluestartyear)\n",
        "print(marketvaluestartyear.columns)"
      ],
      "metadata": {
        "id": "WePK3AO30468"
      },
      "execution_count": null,
      "outputs": []
    },
    {
      "cell_type": "code",
      "source": [
        "\n",
        "#new column with size quantile for each firm, pct is percentile rank, using marketing value in a specific year\n",
        "marketvaluestartyear['size_quantile']= marketvaluestartyear.groupby(['year'])['market_value'].rank(pct= True)\n",
        "\n",
        "\n",
        "print(marketvaluestartyear)\n",
        "print(marketvaluestartyear.columns)"
      ],
      "metadata": {
        "id": "gYUV4Vc309NM"
      },
      "execution_count": null,
      "outputs": []
    },
    {
      "cell_type": "code",
      "source": [
        "\n",
        "#quaantiles (percentiles) to deciles\n",
        "marketvaluestartyear['size_decile']= np.ceil(marketvaluestartyear['size_quantile']/10)\n",
        "\n",
        "\n",
        "\n",
        "print(marketvaluestartyear)\n",
        "print(marketvaluestartyear.columns)\n"
      ],
      "metadata": {
        "id": "OHAG3LRI0_r3"
      },
      "execution_count": null,
      "outputs": []
    },
    {
      "cell_type": "code",
      "source": [
        "#5\n",
        "#left join merdge into maindf\n",
        "mainDF= mainDF.merge(marketvaluestartyear, on= 'tic', 'year', how= 'left')\n",
        "\n",
        "print(mainDF.columns)\n",
        "print(mainDF)"
      ],
      "metadata": {
        "id": "9zl2PU9w1CJ_"
      },
      "execution_count": null,
      "outputs": []
    },
    {
      "cell_type": "code",
      "source": [
        "\n",
        "mainDF['date']= pd.to_datetime(mainDF['date'])\n",
        "mainDF['ret']= pd.to_numeric(mainDF['ret'], errors = 'coerce')\n",
        "mainDF['ret_adj']= pd.to_numeric(mainDF['ret_adj'], errors = 'coerce')\n",
        "mainDF['size_decile']= pd.to_numeric(mainDF['size_decile'], errors = 'coerce')\n",
        "mainDF['ret_minus_rf'] = mainDF['ret_adj'] - mainDF['rf']\n",
        "\n",
        "#Add abnormal return data\n",
        "\n",
        "print(mainDF)"
      ],
      "metadata": {
        "id": "LgUwPbuEIegd"
      },
      "execution_count": null,
      "outputs": []
    },
    {
      "cell_type": "code",
      "source": [
        "#reate an array for calulations, merge back\n",
        "\n",
        "g= mainDF.groupby(['year', 'month', 'size decile'], as_index = False).apply(lambda x: np.average (x['ret_adj']))\n",
        "g.columns = ['year', 'month', 'size_decile', 'avg_ret_on_size_decile']\n",
        "print(g)\n",
        "\n"
      ],
      "metadata": {
        "id": "8s4Ef8ajJQEi"
      },
      "execution_count": null,
      "outputs": []
    },
    {
      "cell_type": "code",
      "source": [
        "#maybe switch order of on and how\n",
        "mainDF= mainDF.merge(g, on= ['year', 'month', 'size_decile'], how = 'left')\n",
        "mainDF['abn_ret'] = mainDF['ret_adj']-  mainDF['avg_ret_on_size_decile']\n",
        "print(mainDF)"
      ],
      "metadata": {
        "id": "6crPvgycKXaO"
      },
      "execution_count": null,
      "outputs": []
    },
    {
      "cell_type": "code",
      "source": [
        "mainDF.drop('index', inplace= True, axis= 1)\n",
        "print(mainDF)"
      ],
      "metadata": {
        "id": "pT577yBwKZkj"
      },
      "execution_count": null,
      "outputs": []
    },
    {
      "cell_type": "code",
      "source": [
        "#Store mainDF for future use\n",
        "tempMain= mainDF\n",
        "\n",
        "print(mainDF)"
      ],
      "metadata": {
        "id": "Koy9xzud5uFr"
      },
      "execution_count": null,
      "outputs": []
    },
    {
      "cell_type": "markdown",
      "source": [
        "Table 1A"
      ],
      "metadata": {
        "id": "a5Eda-KTuVU7"
      }
    },
    {
      "cell_type": "code",
      "source": [
        "### Replicate Table 1A ###\n",
        "mainDF = tempMain"
      ],
      "metadata": {
        "id": "sszYcjl8VZBT"
      },
      "execution_count": null,
      "outputs": []
    },
    {
      "cell_type": "code",
      "source": [
        "\n",
        "#Generate Dataframe with non-null components (end of fiscal year data)\n",
        "mainOnFYearEnd = mainDF.dropna()\n",
        "mainOnFYearEnd['accruals_comp_quantile'] = mainOnFYearEnd ['accruals_comp'].rank(pct = True)\n",
        "mainOnFYearEnd['accruals_comp_decile']= np.ceil(mainOnFYearEnd['accruals_comp_quantile'] * 10)"
      ],
      "metadata": {
        "id": "wjQwY023VcKC"
      },
      "execution_count": null,
      "outputs": []
    },
    {
      "cell_type": "code",
      "source": [
        "\n",
        "#Generate data for firms with December fiscal-year ends (for CAPM regressions)\n",
        "mainOnFYearEndDecOnly = mainOnFYearEnd[mainOnFYearEnd['month']==12]"
      ],
      "metadata": {
        "id": "uUat7dOsVumU"
      },
      "execution_count": null,
      "outputs": []
    },
    {
      "cell_type": "code",
      "source": [
        "#Generate summary statistics (Table 1A)\n",
        "table1A= pd.Dataframe(index = ['accruals_mean', 'accruals_median', 'cash_flows_mean', 'cash_flows_median', 'earnings_mean', 'earnings_median'], columns = range(1, 11))\n",
        "for i in table1A.columns:\n",
        "  tempDF = mainOnFYearEnd[mainOnFYearEnd['accruals_comp decile'] == i]\n",
        "  table1A[i]['accruals_mean mean' ] = tempDF['accruals_comp'].mean ()\n",
        "  table1A[i]['accruals_median'] = tempDF['accruals_comp'].median()\n",
        "  table1A[i]['cash_flows_mean']= tempDF ['cash_flows_comp'].mean()\n",
        "  table1A[i]['cash_flows_median'] = tempDF['cash_flows_comp'].median()\n",
        "  table1A[i]['earnings_mean'] = tempDF['earnings_comp'].mean()\n",
        "  table1A[i]['earnings_median'] = tempDF['earnings_comp'].median()\n",
        "print (table1A)"
      ],
      "metadata": {
        "id": "sghFDVGdVMuT"
      },
      "execution_count": null,
      "outputs": []
    },
    {
      "cell_type": "markdown",
      "source": [
        "Table 1B"
      ],
      "metadata": {
        "id": "ifesN6f4yXxq"
      }
    },
    {
      "cell_type": "code",
      "source": [
        "### Replicate Table 1B ###\n",
        "mainDF = tempMain"
      ],
      "metadata": {
        "id": "xfYI34UFXKi8"
      },
      "execution_count": null,
      "outputs": []
    },
    {
      "cell_type": "code",
      "source": [
        "\n",
        "#Initialize empty DataFrames\n",
        "table1B = pd.DataFrame(columns = range (1, 11))\n",
        "annualRetMinusRf = pd.DataFrame(index= range (2018, 2022), columns= range (1, 11))\n",
        "for i in annualRetMinusRf.index:\n",
        "  for j in annualRetMinusRf.columns:\n",
        "    annualRetMinusRf[j][i]=[]\n",
        "\n",
        "\n",
        "sizeofPortfolios = pd.DataFrame(index= ['size', 'size_mean', 'size_median'], columns= range(1,11))\n",
        "for i in sizeofPortfolios.index:\n",
        "  for i in sizeofPortfolios.columns:\n",
        "    sizeofPortfolios[j][i]=[]"
      ],
      "metadata": {
        "id": "hh8mHgj2XNi5"
      },
      "execution_count": null,
      "outputs": []
    },
    {
      "cell_type": "code",
      "source": [
        "\n",
        "#Calculate compound ret\n",
        "for i in table1B.columns:\n",
        "  tempDF = mainOnFYearEndDecOnly[mainOnFYearEndDecOnly['accruals_comp_decile'] == i]\n",
        "  for i in tempDF. index:\n",
        "    if((j - 11) in mainDF.index) and (mainDF['tic'][j - 11] == tempDF['tic'][j]): #check if index exists and is the same firm as current data\n",
        "      tempDF2 = mainDF.loc[(j - 11) : j]\n",
        "      tempDF2['ret _minus_rf_compounded'] = (1 + tempDF2['ret_minus_rf']).cumprod()-1\n",
        "      yearofData = tempDF2['year'][j]\n",
        "      annualRetMinusRf[1][yearofData].append(tempDF2['ret_minus_rf_compounded'][j]) #add last count of compounded data to annual ret minus Rf data\n",
        "      sizeofPortfolios[i]['size'].append(np.log(tempDF2['mv'][j]))\n"
      ],
      "metadata": {
        "id": "0bXkaRzMVORD"
      },
      "execution_count": null,
      "outputs": []
    },
    {
      "cell_type": "code",
      "source": [
        "#Take average for each portfolio\n",
        "for i in annualRetMinusRf.index:\n",
        "  for i in annualRetMinusRf.columns:\n",
        "    annualRetMinusRf[j][i] = np.average(annualRetMinusRf[j][i])\n",
        "\n",
        "#new calculated comlum\n",
        "# sizeofPortfolios['size_mean']= sizeofPortfolios['size'].lambda(x: np.average(x))\n",
        "\n",
        "\n",
        "for j in sizeofPortfolios.columns:\n",
        "  sizeofPortfolios[j]['size_mean'] = np.average(sizeofPortfolios[j]['size'])\n",
        "  sizeofPortfolios[j]['size_median'] = np.median(sizeofPortfolios[j]['size'])\n",
        "\n",
        "sizeofPortfolios.drop('size', inplace = True, axis=0)\n",
        "#set index\n",
        "annualRetMinusRf['year']= annualRetMinusRf.index\n",
        "print(sizeofPortfolios)"
      ],
      "metadata": {
        "id": "wwqj07VbXRY-"
      },
      "execution_count": null,
      "outputs": []
    },
    {
      "cell_type": "code",
      "source": [
        "#Generate Dataframe for Table 18 Regresssions\n",
        "dataForTable1BReg = annualRetMinusRf.merge(annualRmMinusRf,on='year', how = 'left')\n",
        "dataForTable1BReg = dataforTable1BReg.astype(float)\n",
        "\n",
        "\n",
        "#Run regressions to get alpha and beta\n",
        "for i in range(1, 11):\n",
        "  tempDF = dataforTable1BReg.filter([i, 'annual_rm_minus_rf'])\n",
        "  tempDF.columns = ['current_decile_data','annual_rm_minus_rf']\n",
        "  #making a line of best fit\n",
        "  tempReg = sm.ols(formula = \"current_decile_data ~ annual_rm_minus_rf\", data = tempDF).fit()\n",
        "  tempRegSummary = tempReg.summary()\n",
        "  #printing components\n",
        "  print(\"Accruals decile =\" + str(i) + \":\")\n",
        "  print(tempRegSummary)"
      ],
      "metadata": {
        "id": "wRSb6AEbVT7P"
      },
      "execution_count": null,
      "outputs": []
    },
    {
      "cell_type": "markdown",
      "source": [
        "Table 1C"
      ],
      "metadata": {
        "id": "eTCUxhATGr3U"
      }
    },
    {
      "cell_type": "code",
      "source": [
        "mainDF= tempMain"
      ],
      "metadata": {
        "id": "WuZ1k_iN0yDK"
      },
      "execution_count": null,
      "outputs": []
    },
    {
      "cell_type": "code",
      "source": [
        "#Generate summary statistics (Table 1C)\n",
        "#structure: rows with index names, 10 columns listed 1,2... 10 with stats\n",
        "table1C= pd.Dataframe(index = ['current_asset_mean', 'current_asset_median', 'current_liability_mean', 'current_liability_median', 'depreciation_expense_mean', 'depreciation_expense_median'], columns = range(1, 11))\n",
        "for i in table1C.columns:\n",
        "  tempDF = mainOnFYearEnd[mainOnFYearEnd['accruals_comp_decile'] == i]\n",
        "  table1C[i]['current_asset_mean mean'] = tempDF['accruals_subcomp_1'].mean()\n",
        "  table1C[i]['current_asset_median'] = tempDF['accruals_subcomp_1'].median()\n",
        "  table1C[i]['current_liability_mean']= tempDF['cash_flows_subcomp_2'].mean()\n",
        "  table1C[i]['current_liability_median'] = tempDF['cash_flows_subcomp_2'].median()\n",
        "  table1C[i]['depreciation_expense_mean'] = tempDF['earnings_subcomp_3'].mean()\n",
        "  table1C[i]['depreciation_expense_median'] = tempDF['earnings_subcomp_2'].median()\n",
        "print (table1C)"
      ],
      "metadata": {
        "id": "1JaxmUUNGucB"
      },
      "execution_count": null,
      "outputs": []
    },
    {
      "cell_type": "markdown",
      "source": [
        "Table 2"
      ],
      "metadata": {
        "id": "AgAvfQtfIicn"
      }
    },
    {
      "cell_type": "code",
      "source": [
        "print(tempMain)"
      ],
      "metadata": {
        "id": "J5bythd18KfO"
      },
      "execution_count": null,
      "outputs": []
    },
    {
      "cell_type": "code",
      "source": [
        "#14\n",
        "\n",
        "#Regenerate main on Year End (to allow us to rerun the same code block for debugging)\n",
        "#generate quantile (precise number), but cut off to not be too long. multiply 0.1, 0.4, etc by 10 to get 1, 2, 3, etc.\n",
        "\n",
        "mainDF= tempMain\n",
        "\n",
        "mainOnFYearEnd = mainDF.dropna()\n",
        "\n",
        "mainOnFYearEnd['accruals_comp_quantile'] = mainOnFYearEnd['accurals_comp'].rank(pct = True)\n",
        "\n",
        "mainOnFYearEnd['accruals_comp_decile']= np.ceil(mainOnFYearEnd['accruals_comp_quantile'] * 10)\n",
        "\n",
        "mainOnFYearEnd['earnings_comp_quantile'] = mainOnFYearEnd['earnings_comp'].rank(pct=True)\n",
        "\n",
        "mainOnFYearEnd['earnings_comp_decile']= np.ceil(mainOnFYearEnd['earnings_comp_quantile'] * 10)\n",
        "\n",
        "mainOnFYearEnd['cash_flows_comp_quantile']= mainOnFYearEnd['cash_flows_comp'].rank(pct = True)\n",
        "\n",
        "mainOnFYearEnd['cash_flows_comp_decile']= np.ceil(mainOnFYearEnd['cash_flows_comp_quantile'] * 10)\n",
        "\n",
        "\n",
        "print(mainOnFYearEnd)"
      ],
      "metadata": {
        "id": "7v1LkxiF8tTE"
      },
      "execution_count": null,
      "outputs": []
    },
    {
      "cell_type": "code",
      "source": [
        "#Generate comp for next year's earnings component and accruals decile\n",
        "#.shift function ask chat gpt\n",
        "mainOnFYearEnd['accruals_comp_next_year']= mainOnFYearEnd.groupby(['tic'])['accruals_comp'].shift(-1)\n",
        "mainOnFYearEnd['earnings_comp_next_year'] = mainOnFYearEnd.groupby(['tic'])['earnings_comp'].shift(-1)\n",
        "mainOnFYearEnd['cash_flows_comp_next_year'] = mainOnFYearEnd.groupby(['tic'])['cash_flows_comp'].shift(-1)\n",
        "mainOnFYearEnd['accruals_comp_decile_next_year']= mainOnFYearEnd.groupby(['tic'])['accruals_comp_decile'].shift(-1)\n",
        "mainOnFYearEnd['earnings_comp_decile_next_year']= mainOnFYearEnd.groupby(['tic'])['earnings_comp_decile'].shift(-1)\n",
        "mainOnFYearEnd['cash_flows_comp_decile_next_year']= mainOnFYearEnd.groupby(['tic'])['cash_flows_comp_decile'].shift(-1)\n",
        "\n",
        "print(mainOnFYearEnd)"
      ],
      "metadata": {
        "id": "CllF8sED_L2S"
      },
      "execution_count": null,
      "outputs": []
    },
    {
      "cell_type": "code",
      "source": [
        "#Generate DataFrame for table 2 regressions (drops most recent years to available text-year data)\n",
        "dataForTable2Reg= mainOnFYearEnd.dropna()\n",
        "\n",
        "print(dataForTable2Reg)"
      ],
      "metadata": {
        "id": "eNCYusn9_Rhv"
      },
      "execution_count": null,
      "outputs": []
    },
    {
      "cell_type": "code",
      "source": [
        "#run regressions\n",
        "\n",
        "table2AReg= sm.ols(formula= \"earnings_comp_next_year ~ earnings_comp\", data = dataForTable2Reg).fit()\n",
        "\n",
        "table2ARegSummary= table2AReg.summary()\n",
        "\n",
        "table2BReg = sm.ols(formula= \"earnings_comp_decile_next_year~ earnings_comp_decile\", data = dataForTable2Reg).fit()\n",
        "table2BRegSummary= table2BReg.summary()\n"
      ],
      "metadata": {
        "id": "2et7tFqkAbQi"
      },
      "execution_count": null,
      "outputs": []
    },
    {
      "cell_type": "code",
      "source": [
        "\n",
        "#run regressions for firm grouped by industry codes\n",
        "alpha0DistTable2A= []\n",
        "alpha0DistTable2B= []\n",
        "\n",
        "alpha1DistTable2A= []\n",
        "alpha1DistTable2B = []\n",
        "\n",
        "#i dont think can optimize- can create array and drop all industry codes that are 1\n",
        "\n",
        "\n",
        "for i in dataForTable2Reg['siccd'].unique():\n",
        "  tempDF= dataForTable2Reg[dataForTable2Reg['siccd'] == i]\n",
        "  regA = sm.ols(formula= \"earnings_comp_next_year~ earnings_comp\", data = tempDF).fit()\n",
        "  #what step is this? for each identifier, have one regression with factor and other without- is this the interacton term?\n",
        "  alpha0DistTable2A.append(regA.params[0])\n",
        "  #0 is intercept, 1 is x-axis/ independent variable\n",
        "  alpha1DistTable2A.append(regA.params[1])\n",
        "  regB = sm.ols(formula= \"earnings_comp_decile_next_year~ earnings_comp_decile\", data = tempDF).fit()\n",
        "  alpha0DistTable2B.append(regB.params[0])\n",
        "  alpha1DistTable2B.append(regB.params[1])\n"
      ],
      "metadata": {
        "id": "-5MgU7m36e85"
      },
      "execution_count": null,
      "outputs": []
    },
    {
      "cell_type": "code",
      "source": [
        "\n",
        "#Print(\"Table 2A\").results\n",
        "\n",
        "#how to format the printing of graphs\n",
        "print(\"Table 2A\")\n",
        "print(\"Pooled Regressions\")\n",
        "print(table2ARegSummary)\n",
        "print(\"Industry Level Regressions\")\n",
        "#alpha of firms with indisutry code 0, industry code 1 seprately\n",
        "print(\"Mean - alpha_0:\" + str(np.average(alpha0DistTable2A)) + \"alpha_1:\" + str(np.average(alpha1DistTable2A)))\n",
        "\n",
        "#what is comma seperating?\n",
        "print(\"Q1 - alpha_0:\" + str(np.quantile(alpha0DistTable2A, 0.25)) + \"alpha_1:\" + str(np.quantile(alpha1DistTable2A, 0.25)))\n",
        "\n",
        "print(\"Median - alpha_0:\" + str(np.median(alpha0DistTable2A)) + \"alpha_1\" (np.median(alpha1DistTable2A)))\n",
        "\n",
        "print(\"Q3 - alpha_0:\"+ str(np.quantile(alpha0DistTable2A, 0.75)) + \"alpha_1\": str(np.quantile(alpha1DistTable2A, 0.75)))\n",
        "\n"
      ],
      "metadata": {
        "id": "4n5J3O9ezgV0"
      },
      "execution_count": null,
      "outputs": []
    },
    {
      "cell_type": "code",
      "source": [
        "#Print Table 28 results\n",
        "\n",
        "print(\"Table 2B\")\n",
        "print(\"Pooled Regressions\")\n",
        "print(table2BRegSummary)\n",
        "print(\"Industry Level Regressions\")\n",
        "print(\"Mean-alpha_0:\" + str(np.average(alpha0DistTable2B))+ \"alpha_1:\" + str(np.average(alpha1DistTable2B)))\n",
        "print(\"Q1 - alpha_0:\" + str(np.quantile(alpha0DistTable2B, 0.25)) + \"alpha_1:\" + str(np.quantile(alpha1DistTable2B, 0.25)))\n",
        "print(\"Median-alpha_0:\"+ str(np.median(alpha0DistTable2B)) + \"alpha_1:\"+ str(np.median(alpha1DistTable2B)))\n",
        "print(\"Q3 - alpha_0:\"+ str(np.quantile(alpha0DistTable2B, 0.75))+ \"alpha_1:\" str(np.quantile(alpha1DistTable2B, 0.75)))\n"
      ],
      "metadata": {
        "id": "aNltKLTPAaJh"
      },
      "execution_count": null,
      "outputs": []
    },
    {
      "cell_type": "markdown",
      "source": [
        "Table 3"
      ],
      "metadata": {
        "id": "nUcLueL-4F-T"
      }
    },
    {
      "cell_type": "code",
      "source": [
        "tempMainOnFYearEnd= mainOnFYearEnd"
      ],
      "metadata": {
        "id": "SbcAY2VM35os"
      },
      "execution_count": null,
      "outputs": []
    },
    {
      "cell_type": "code",
      "source": [
        "dataforTable3Reg= dataforTable2Reg"
      ],
      "metadata": {
        "id": "A7yXCxAT6Gh1"
      },
      "execution_count": null,
      "outputs": []
    },
    {
      "cell_type": "code",
      "source": [
        "#Run regressions\n",
        "\n",
        "table3AReg= sm.ols(formula= \"earnings_comp_next_year~ accruals_comp + cash_flows_comp\", data= dataforTable3Reg).fit()\n",
        "table3ARegSummary= table3AReg.summary()\n",
        "table3BReg= sm.ols(formula= \"earnings_comp_decile_next_year~ accruals_comp_decile + cash_flows_comp_decile\", data= dataforTable3Reg).fit()\n",
        "table3BRegSummary= table3BReg.summary()\n",
        "\n",
        "#gamma vs alpha\n",
        "gamma0DistTable3A= []\n",
        "gamma1DistTable3A= []\n",
        "gamma2DistTable3A= []\n",
        "gamma0DistTable3B= []\n",
        "gamma1DistTable3B= []\n",
        "gamma2DistTable3B= []\n",
        "\n",
        "\n",
        "#run regressions for is grouped by industry codes\n",
        "for i in dataforTable3Reg['siccd'].unique():\n",
        "  #select specific column\n",
        "  tempDF= dataforTable3Reg[dataforTable3Reg['siccd']== i]\n",
        "  regA= sm.ols(formula= \"earnings_comp_next_year, accruals_comp + cash_flows_comp\", data = tempDF).fit()\n",
        "  gamma0DistTable3A.append(regA.params[0])\n",
        "  gamma1DistTable3A.append(regA.params[1])\n",
        "  gamma2DistTable3A.append(regA.params[2])\n",
        "  regB= sm.ols(formula= \"earnings_comp_decile_next_year, accruals_comp_decile + cash_flows_comp_decile\", data = tempDF).fit()\n",
        "  gamma0DistTable3B.append(regB.params[0])\n",
        "  gamma1DistTable3B.append(regB.params[1])\n",
        "  gamma2DistTable3B.append(regB.params[2])\n",
        "\n",
        "#Remove min and max values\n",
        "gamma0DistTable3A.sort()\n",
        "#what doing here\n",
        "gamma0DistTable3A = gamma0DistTable3A[1: -1]\n",
        "\n",
        "gamma1DistTable3A.sort()\n",
        "gamma1DistTable3A = gamma1DistTable3A[1: -1]\n",
        "\n",
        "gamma2DistTable3A.sort()\n",
        "gamma2DistTable3A = gamma2DistTable3A[1: -1]\n",
        "\n",
        "gamma0DistTable3B.sort()\n",
        "gamma0DistTable3B = gamma0DistTable3B[1: -1]\n",
        "\n",
        "gamma1DistTable3B.sort()\n",
        "gamma1DistTable3B = gamma1DistTable3B[1: -1]\n",
        "\n",
        "gamma2DistTable3B.sort()\n",
        "gamma2DistTable3B = gamma2DistTable3B[1: -1]\n",
        "\n",
        "table3ARegSummary= table3AReg.summary()\n",
        "\n",
        "#Print Toole 34 results\n",
        "print(\"Table 3A\")\n",
        "print(\"Pooled Regressions\")\n",
        "print(table3ARegSummary)\n",
        "print(\"Industry Level Regressions\")\n",
        "print(\"Mean - gamma_0:\" + str(np.average(gamma0DistTable3A))+ \"gamma_1:\" + str(np.average(gamma1DistTable3A))+ \"gamma_2:\" + str(np.average(gamma2DistTable3A)))\n",
        "print(\"Q1 - gamma_0:\" + str(np.quantile(gamma0DistTable3A, 0.25)) + \"gamma_1:\" + str(np.quantile(gamma1DistTable3A, 0.25))+ \"gamma_2:\" + str(np.quantile(gamma2DistTable3A, 0.25)))\n",
        "print(\"Median - gamma_0:\"+ str(np.median(gamma0DistTable3A)) + \"gamma_1:\"+ str(np.median(gamma1DistTable3A))+ \"gamma_2:\" + str(np.median(gamma2DistTable3A)))\n",
        "print(\"Q3 - gamma_0:\"+ str(np.quantile(gamma0DistTable3A, 0.75))+ \"gamma_1:\" str(np.quantile(gamma1DistTable3A, 0.75))+ \"gamma_2:\" + str(np.quantile(gamma2DistTable3A, 0.75)))\n"
      ],
      "metadata": {
        "id": "mPtsbR6L6iYW"
      },
      "execution_count": null,
      "outputs": []
    },
    {
      "cell_type": "code",
      "source": [
        "#Print Toole 3B results\n",
        "table3BRegSummary= table3BReg.summary()\n",
        "\n",
        "print(\"Table 3B\")\n",
        "print(\"Pooled Regressions\")\n",
        "print(table3BRegSummary)\n",
        "print(\"Industry Level Regressions\")\n",
        "print(\"Mean - gamma_0:\" + str(np.average(gamma0DistTable3B))+ \"gamma_1:\" + str(np.average(gamma1DistTable3B))+ \"gamma_2:\" + str(np.average(gamma2DistTable3B)))\n",
        "print(\"Q1 - gamma_0:\" + str(np.quantile(gamma0DistTable3B, 0.25)) + \"gamma_1:\" + str(np.quantile(gamma1DistTable3B, 0.25))+ \"gamma_2:\" + str(np.quantile(gamma2DistTable3B, 0.25)))\n",
        "print(\"Median - gamma_0:\"+ str(np.median(gamma0DistTable3B)) + \"gamma_1:\"+ str(np.median(gamma1DistTable3B))+ \"gamma_2:\" + str(np.median(gamma2DistTable3B)))\n",
        "print(\"Q3 - gamma_0:\"+ str(np.quantile(gamma0DistTable3B, 0.75))+ \"gamma_1:\" str(np.quantile(gamma1DistTable3B, 0.75))+ \"gamma_2:\" + str(np.quantile(gamma2DistTable3B, 0.75)))\n",
        "\n",
        "\n"
      ],
      "metadata": {
        "id": "5_SU0Gou6pqQ"
      },
      "execution_count": null,
      "outputs": []
    },
    {
      "cell_type": "markdown",
      "source": [
        "Prep for Table 4 Regression"
      ],
      "metadata": {
        "id": "DPhTJ_HnA5Y1"
      }
    },
    {
      "cell_type": "code",
      "source": [
        "#18\n",
        "\n",
        "### Replicate Table 4 ##\n",
        "\n",
        "#Add compound abnormal return data for next year\n",
        "#checkpoint\n",
        "mainOnFYearEnd= tempMainOnFYearEnd\n",
        "dataForTable4Reg= mainOnFYearEnd.dropna()\n",
        "#initializing?\n",
        "dataForTable4Reg['abn_ret_compounded_next_year'] = np.nan\n",
        "\n",
        "for i in dataForTable4Reg.index:\n",
        "  if((i + 4) in mainDF.index) and ((i + 15) in mainDF.index) and (mainDF['tic'][i + 4] == dataForTable4Reg['tic'][i]) and (mainDF['tic'][i + 15] == dataForTable4Reg['tic'][i]): #check if index for 4 months and 15 months after fiscal yer ends and exist and are the same firm as current data\n",
        "    tempDF= mainDF.loc[(i+4)= (i + 15)]\n",
        "    tempDF['abn_ret_compounded_next_year'] = (1+ tempDF['abn_ret']).cumprod() - 1\n",
        "    dataForTable4Reg['abn_ret_compounded_next_year'][i]= tempDF['abn_ret_compounded_next_year'][i + 15] #add last count of compounded abnormal return data\n",
        "\n",
        "dataForTable4Reg = dataForTable4Reg.dropna()\n",
        "\n",
        "#Rank abnormal return data\n",
        "\n",
        "dataForTable4Reg['abn_ret_compounded_quantile_next_year']= dataForTable4Reg['abn_net_compounded_next_year'].rank(pct = True)\n",
        "\n",
        "dataForTable4Reg['abn_ret_compounded_decile_next_year'] = np.ceil(dataForTable4Reg['abn_ret_compounded_quantile_next_year'] * 10)\n",
        "\n",
        "print(dataForTable4Reg)"
      ],
      "metadata": {
        "id": "rxHeYEFA6kpE"
      },
      "execution_count": null,
      "outputs": []
    },
    {
      "cell_type": "code",
      "source": [
        "#19\n",
        "#run regression\n",
        "table4AReg1= sm.ols(formula= \"earnings_comp_next_year~ earnings_comp\", data= dataForTable4Reg).fit()\n",
        "table4AReg1Summary= table4AReg1.summary()\n",
        "print(table4AReg1Summary)"
      ],
      "metadata": {
        "id": "ILz6ToM2zLE0"
      },
      "execution_count": null,
      "outputs": []
    },
    {
      "cell_type": "code",
      "source": [
        "#20\n",
        "#Record data from previous regression\n",
        "#parameter 0 is y-intercept, so y intercept is alpha\n",
        "alpha_0_4A = table4AReg1.params[0]\n",
        "\n",
        "dataForTable4Reg['earnings_comp_next_year_minus_alpha_0'] = dataForTable4Reg['earnings_comp_next_year']- alpha_0_4A\n",
        "\n",
        "#Run second regression for Table 4A\n",
        "table4AReg2= sm.ols(formula= \"abn_ret_compounded_next_year ~ earnings_comp_next_year_minus_alpha_0 + earnings_comp -1\", data= dataForTable4Reg).fit()\n",
        "table4AReg2Summary= table4AReg2.summary()\n",
        "\n",
        "print(table4AReg2Summary)"
      ],
      "metadata": {
        "id": "-XnMbiBK6ueb"
      },
      "execution_count": null,
      "outputs": []
    },
    {
      "cell_type": "code",
      "source": [
        "#table 4b\n",
        "table4BReg1= sm.ols(formula= \"earnings_comp_decile_next_year ~ earnings_comp_decile\", data= dataForTable4Reg).fit()\n",
        "table4BReg1Summary= table4BReg1.summary()\n",
        "\n",
        "print(table4BReg1Summary)"
      ],
      "metadata": {
        "id": "IxJGQ3l40uWu"
      },
      "execution_count": null,
      "outputs": []
    },
    {
      "cell_type": "code",
      "source": [
        "alpha_0_4B = table4BReg1.params[0]\n",
        "\n",
        "dataForTable4Reg['earnings_comp_decile_next_year_minus_alpha_0'] = dataForTable4Reg['earnings_comp_decile_next_year']- alpha_0_4B\n",
        "\n",
        "#Run second regression for Table 4b\n",
        "table4BReg2= sm.ols(formula= \"abn_ret_compounded_decile_next_year ~ earnings_comp_decile_next_year_minus_alpha_0 + earnings_comp_decile -1\", data= dataForTable4Reg).fit()\n",
        "table4BReg2Summary= table4BReg2.summary()\n",
        "\n",
        "print(table4BReg2Summary)"
      ],
      "metadata": {
        "id": "rvVwxT-C2nTS"
      },
      "execution_count": null,
      "outputs": []
    },
    {
      "cell_type": "markdown",
      "source": [
        "Table 5"
      ],
      "metadata": {
        "id": "OHpfF7Mb3Jh4"
      }
    },
    {
      "cell_type": "code",
      "source": [
        "#23\n",
        "#table 5\n",
        "dataForTable5Reg= dataForTable4Reg\n",
        "\n",
        "table5AReg1= sm.ols(formula= \"earnings_comp_next_year ~ accruals_comp+ cash_flows_comp\", data= dataForTable5Reg).fit()\n",
        "table5AReg1Summary= table5AReg1.summary()\n",
        "\n",
        "print(table5AReg1Summary)\n",
        "\n",
        "alpha_0_5A = table5AReg1.params[0]\n",
        "\n",
        "dataForTable5Reg['earnings_comp_next_year_minus_gamma_0'] = dataForTable5Reg['earnings_comp_next_year']- alpha_0_5A\n",
        "\n",
        "#Run second regression for Table 4b\n",
        "table5AReg2= sm.ols(formula= \"abn_ret_compounded_next_year ~ earnings_comp_next_year_minus_gamma_0 + accruals_comp+ cash_flows_comp -1\", data= dataForTable5Reg).fit()\n",
        "table5AReg2Summary= table5AReg2.summary()\n",
        "\n",
        "print(table5AReg2Summary)\n"
      ],
      "metadata": {
        "id": "Zo7DAUht3HPc"
      },
      "execution_count": null,
      "outputs": []
    },
    {
      "cell_type": "code",
      "source": [
        "#table 5B\n",
        "#25\n",
        "table5BReg1= sm.ols(formula= \"earnings_comp_decile_next_year ~ accruals_comp_decile+ cash_flows_comp_decile\", data= dataForTable5Reg).fit()\n",
        "table5BReg1Summary= table5BReg1.summary()\n",
        "\n",
        "print(table5AReg1Summary)\n",
        "\n",
        "alpha_0_5B = table5AReg1.params[0]\n",
        "\n",
        "dataForTable5Reg['earnings_comp_decile_next_year_minus_gamma_0'] = dataForTable5Reg['earnings_comp_decile_next_year']- alpha_0_5B\n",
        "\n",
        "#Run second regression for Table 4b\n",
        "table5BReg2= sm.ols(formula= \"abn_ret_compounded_decile_next_year ~ earnings_comp_decile_next_year_minus_gamma_0 + accruals_comp_decile+ cash_flows_comp_decile -1\", data= dataForTable5Reg).fit()\n",
        "table5BReg2Summary= table5BReg2.summary()\n",
        "\n",
        "print(table5BReg2Summary)\n",
        "\n"
      ],
      "metadata": {
        "id": "JRGlusX94QiG"
      },
      "execution_count": null,
      "outputs": []
    },
    {
      "cell_type": "markdown",
      "source": [
        "Table 6"
      ],
      "metadata": {
        "id": "nvpwkILV3VPW"
      }
    },
    {
      "cell_type": "code",
      "source": [
        "#27]\n",
        "### Replicate Table 6 ***\n",
        "\n",
        "#Generate data (2-year abnormal return, ret-rf and rm-rf date)\n",
        "\n",
        "dataForTable6= dataForTable5Reg\n",
        "\n",
        "dataForTable6['abn_ret_compounded_next_2_years'] = np.nan\n",
        "dataForTable6['ret_minus_rf_compounded_next_year'] = np.nan\n",
        "dataForTable6['ret_minus_rf_compounded_next_2_years'] = np.nan\n",
        "dataForTable6['rm_minus_rf_compounded_next_year'] = np.nan\n",
        "dataForTable6['rm_minus_rf_compounded_next_2_years'] = np.nan\n",
        "\n",
        "for i in dataForTable6.index\n",
        "  if((i+4) in mainDF.index) and ((i+27) in mainDF.index) and (mainDF['tic'][i+4]==dataForTable6['tic'][i])and (mainDF['tic'][i+27] == dataForTable6['tic'][i]):\n",
        "#check if index for 4 months and 27 months after fiscal yar ends and exists and is the same firm as current\n",
        "\n",
        "#Add ret-rf, r-rfand abnormal return data\n",
        "  tempDF = mainDF.loc[(i+4) :(i+27)]\n",
        "#ret-rf\n",
        "  tempDF['ret_minus_rf_compounded'] = (1 + tempDF['ret_minus_rf']).cumprod() - 1\n",
        "  dataForTable6['ret_minus_rf_compounded_next_year'][i]= tempDF['ret_minus_rf_compounded'][i+15]\n",
        "  dataForTable6['rm_minus_rf_compounded_next_2_years'][i]= tempDF['ret_minus_rf_compounded'][i+27]\n",
        "#rm-rf\n",
        "  tempDF['rm_minus_rf_compounded'] = (1 + tempDF['rm_minus_rf']).cumprod() - 1\n",
        "  dataForTable6['rm_minus_rf_compounded_next_year'][i] = tempDF['rm_minus_rf_compounded'][i + 15]\n",
        "  dataForTable6['rm_minus_rf_compounded_next_2_years'][i] = tempDF['rm_minus_rf_compounded'][i + 27]\n",
        "#abnormal returns\n",
        "  tempDF['abn_ret_compounded']= (1+ tempDF['abn_ret']).cumprod() -1\n",
        "  dataForTable6['abn_ret_compounded_next_2_years'][i]= tempDF['abn_ret_compounded'][i + 27]\n",
        "  dataForTable6 = dataForTable6.dropna()\n",
        "\n",
        "table6 = pd.DataFrame(index = range(1,11), columns = ['sar_next_year_mean', 'sar_next_2 years_mean', 'sar_next_year_median', 'sar_next_2_years_median, 'alpha_next_year', 'alpha_next_2_years'])\n",
        "\n",
        "for i in table6.index:\n",
        "  tempDF = dataForTable6[dataForTables['accruals comp_decile'] =i]\n",
        "  table6['sar_next_year_mean'][i]= np.average(tempDF['abn_ret_compounded_next_year'])\n",
        "  table6['sar_next_2_years_mean'][i]= np.average(tempDF['abn_ret_compounded_next_2_years'])\n",
        "  table6['sar_next_year_median'][1] = np.median(tempDF['abn_net_compounded_next_year'])\n",
        "  table6['sar_next_2_years_median'][i]- np.median(tempDF['abn_ret_compounded_next_2_years'])\n",
        "\n",
        "  tempReg= sm.ols(formula = \"ret_minus_rf_compounded_next_year ~ rm_minus_rf_compounded_next_year\", data= tempDF).fit()\n",
        "  tempAlpha= tempReg.params[0]\n",
        "  tempReg2= sm.ols(formula= \"ret_minus_rm_compounded_next_2_years ~rm_minus_rf_compounded_next_2_years\", data= tempDF).fit()\n",
        "  tempAlpha2= tempReg2.params[0]\n",
        "  table6['alpha_next_year'][i]= tempAlpha\n",
        "  table6['alpha_next_2_years'][i]= tempAlpha2\n",
        "\n",
        "print(table6)"
      ],
      "metadata": {
        "id": "el7mQZOa6ww_"
      },
      "execution_count": null,
      "outputs": []
    },
    {
      "cell_type": "markdown",
      "source": [
        "Table 7"
      ],
      "metadata": {
        "id": "2YmRT0OIBrTc"
      }
    },
    {
      "cell_type": "code",
      "source": [
        "#28\n",
        "dataForTable7= dataForTable6\n",
        "table7AReg1= sm.ols(formula= \"abn_ret_compounded_next_year ~ accruals_comp\", data= dataForTable7).fit()\n",
        "table7AReg1Summary= table7AReg1.summary()\n",
        "table7AReg2= sm.ols(formula= \"abn_ret_compounded_next_2_years ~ accruals_comp\", data= dataForTable7).fit()\n",
        "table7AReg2Summary= table7AReg2.summary()\n",
        "\n",
        "table7BReg1= sm.ols(formula= \"abn_ret_compounded_next_year ~ accruals_subcomp_1+ accruals_subcomp_2+ accruals_subcomp_3\", data= dataForTable7).fit()\n",
        "table7BReg1Summary= table7BReg1.summary()\n",
        "table7BReg2= sm.ols(formula= \"abn_ret_compounded_next_2_years ~ accruals_subcomp_1+ accruals_subcomp_2+ accruals_subcomp_3\", data= dataForTable7).fit()\n",
        "table7BReg2Summary= table7BReg2.summary()\n",
        "\n",
        "print(table7AReg1Summary)\n",
        "print(table7AReg2Summary)\n",
        "print(table7BReg1Summary)\n",
        "print(table7BReg2Summary)"
      ],
      "metadata": {
        "id": "mdHbIC6XBhvb"
      },
      "execution_count": null,
      "outputs": []
    }
  ]
}